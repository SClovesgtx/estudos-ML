{
 "cells": [
  {
   "cell_type": "markdown",
   "metadata": {},
   "source": [
    "# O problema\n",
    "\n",
    "Ailton trabalha com controle de qualidade numa empresa farmaceutica chamada Zeta. Ele precisa testar se o novo lote de comprimidos Biripopina tem em média 10g da substância axitomicina por comprimido. Para isso ele precisa tirar da esteira de produção uma Amostra Aleatória Simples sem Reposição que represente bem a população, que neste caso é o lote de 100 mil comprimidos Biripopina. Qual deve ser o tamanho da amostra para se obter nível de confiança sobre o teste seja de 90%?\n",
    "\n",
    "obs: A Norma BTB de padrões de qualidade da insdustria farmaceutica estabelece que a quantidade axitomicina não deve ultrapassar 1,5g de distância da média desejada (8,5g < quantidade de axitomicina < 11,5g). Além disso, deve-se levar em conta que a medição da quantidade de axitomicina no comprimido de Biripopina causa a destruição do mesmo, portanto a amostragem é sem reposição. \n",
    "\n",
    "A seguir veremos 2 diferentes abordagens para resolver esse problema."
   ]
  },
  {
   "cell_type": "markdown",
   "metadata": {},
   "source": [
    "# 1ª Abordagem \n",
    "\n",
    "Essa abordagem trata da Amostragem Aleatória Simples sem Reposição (AASs), que é o caso usado em amostras que precisam ser destruídas após medição do parâmetro desejado.\n",
    "\n",
    "A foto a seguir foi tirada do livro *Elementos de Amostragem, Heleno Bolfarine & Wilton O. Bussab, 1ª ed, Editora Blucher, pg 79*: \n",
    "\n",
    "\n",
    "![](imgs/7.png)\n",
    "\n",
    "A enquação para calcular o tamanho necessário da amostra é:\n",
    "\n",
    "$n = \\frac{1}{\\frac{D}{\\sigma^2} + \\frac{1}{N}}$\n",
    "\n",
    "O $S$ que aparece na fórmula do livro é o desvio padrão populacional, e para não causar confusão eu substituí por $\\sigma$ que é a notação mais usada.\n",
    "\n",
    "O valor $D$ que aparece na equação é $D = \\frac{\\alpha^2}{z_{\\alpha^2}}$, ou seja, a margem de erro dividido pela estatística $z$ para a margem de erro (nível de significância) $\\alpha$.\n",
    "\n",
    "O valor $N$ é o tamanho da minha população que é o lote de 100 mil comprimidos de Biripopina.\n",
    "\n",
    "Vamos lá identificar valores restantes.\n",
    "\n",
    "\n",
    "### 1º Definir o Nível  de Significância $\\alpha$\n",
    "\n",
    "Na hora de realizarmos um teste de hipótese, queremos evitar o [Erro do Tipo I](https://pt.wikipedia.org/wiki/Erro_do_tipo_I). O que seria o Erro do Tipo I? É dizer que minha hipótese nula (quantidade média de axitomicina é 10g no meu lote) é falsa sendo que na verdade ela é verdadeira. Quando definimos $\\alpha=0.1$ por exemplo, estamos dizendo que aceitamos cometer esse tipo de erro com 10% de probabilidade.\n",
    "\n",
    "O exercício diz que se espera um Nível de Confiança de 90%, portando nosso Nível de Significância será de 10%.\n",
    "\n",
    "### 2º Obter o valor de $z$ \n",
    "\n",
    "Precisamos do valor z cujo nível de confiança seja 90%. Como a tabela que usaremos a seguir mostra a distribuição de probabilidade acumulada, precisamos buscar na tabela o valor de 0.95, parece contraditório mas desse modo poderemos usar o valor de z tal que $P(-z \\leq Z \\leq z) = 0.90$, ou seja, iremos distribuir os 10% de nível de significância para as duas caudas, 5% pra cauda de cima e 5% pra cauda de baixo. Isso é conhecido como [teste bicaudal](https://pt.wikipedia.org/wiki/Teste_bicaudal#:~:text=Em%20teste%20de%20hip%C3%B3teses%2C%20um,de%20um%20conjunto%20de%20dados.).\n",
    "\n",
    "Conforme destacado em vermelho no print a seguir, não temos um valor exato de 0.95 na tabela, o valor que chega mais próximo desse valor é 0.9495 e isso nos fornece o valor de z= 1.6 + 0.04 = 1.64.\n",
    "\n",
    "![](imgs/6.png)\n",
    "\n",
    "### 3º Obter o valor de $\\sigma$\n",
    "\n",
    "Não sabemos o valor do desvio padrão da população e agora?\n",
    "\n",
    "As foto a seguir foi tirada do livro *Estatística Básica, Pedro A. Morettin, 8ª ed, editora Saraiva, pg. 291*\n",
    "![](imgs/10.png)\n",
    "\n",
    "As foto a seguir foi tirada do livro *Estatística Teoria e Aplicações, David M. Levine, 6ª ed, editora LTC, pg. 319*\n",
    "![](imgs/11.png)\n",
    "\n",
    "Portanto, assumindo que a quantidade de axitomicina se distribui normalmente nos comprimidos de Biripopina, podemos usar valores anteriores de desvio padrões amostrais dos comprimidos de Biripopina como uma estimativa de $\\sigma$. Vamos supor que numa amostra de 20 comprimidos de Biripopina que você recolheu mês passado, você obteve um desvio padrão de 1.5, então nossa estimimativa desvio padrão populacional será $\\sigma=1.5$.\n",
    "\n",
    "\n",
    "### Calculando Tamanho da Amostra\n",
    "\n",
    "Com os valores necessários em mãos vamos aos cálculos:\n",
    "\n",
    "$D = \\frac{\\alpha^2}{z_{\\alpha}^2} = \\frac{0.5^2}{1.64^2} = 0.092950624$\n",
    "\n",
    "$n = \\frac{1}{\\frac{0.092950624}{1.5^2} + \\frac{1}{100000}} = 601.52$\n",
    "\n",
    "Arredondando nossa amostra para cima, precisaremos ter o tamanho amostral de pelo menos 602 comprimidos para que eu tenha um nível de confiança de 90% no meu teste.\n",
    "\n",
    "Caso queira usar uma planilha para obter esse resultado clique [aqui](https://docs.google.com/spreadsheets/d/1vOknRuB5RF-caFXv1EP8tgHrDXJPrHj7-gxtTI4rqR8/edit#gid=0)\n"
   ]
  },
  {
   "cell_type": "markdown",
   "metadata": {},
   "source": [
    "# Abordagem 2\n",
    "\n",
    "Essa abordagem é a mais simples mas a referência que obtive foi um vídeo, precisaríamos de ter uma referência mais confiável. Olhando os comentários do vídeo, o próprio autor do vídeo responde qual a referência:\n",
    "\n",
    "![](imgs/9.png)\n",
    "\n",
    "O autor do vídeo usa uma anotação de aula de uma universidade particular do SP. Portanto <mark>ESSA ABORGEM NÃO SE EMBASA EM FONTES CONFIÁVEIS</mark>, tome cuidado caso deseje usá-la.\n",
    "\n",
    "Dado o aviso, o vídeo em questão é o seguinte [Estatística - Como calcular o tamanho de uma amostra](https://www.youtube.com/watch?v=rQhGUyqUIqk).\n",
    "\n",
    "Segundo essa abordagem precisamos saber:\n",
    "\n",
    "* N: é o tamanho da população, no nosso caso é o tamanho do lote que é 100 mil comprimidos.\n",
    "\n",
    "* $\\epsilon$: a margem de erro desejada que no nosso caso é $\\epsilon=0.10$.\n",
    "\n",
    "Primeiro estimamos o tamanho da nossa amostra pela seguinte fórmula:\n",
    "\n",
    "$n_0 = \\frac{1}{(\\frac{\\epsilon}{2})²} = \\frac{1}{(\\frac{0.10}{2})²} = 400$\n",
    "\n",
    "Depois obtemos o tamanho da amostra acrescentando o tamanho da população N:\n",
    "\n",
    "$n = \\frac{N x n_0}{N + n_0} = \\frac{100000 x 400}{100000 + 400} = 398.4$\n",
    "\n",
    "\n",
    "Arredondando pra cima temos que o tamanho da minimo da amostra deve ser de pelo menos 399. \n",
    "\n",
    "Para fazer esse cálculo usando uma planilha clique [aqui](https://docs.google.com/spreadsheets/d/1vOknRuB5RF-caFXv1EP8tgHrDXJPrHj7-gxtTI4rqR8/edit#gid=2137941145)."
   ]
  },
  {
   "cell_type": "markdown",
   "metadata": {},
   "source": [
    "# Poder do Teste\n",
    "\n",
    "A foto a seguir foi tirada do livro *Estatística Básica, Pedro A. Morettin, 8ª ed, editora Saraiva, pg. 351*.\n",
    "![](imgs/13.png)\n",
    "\n",
    "Portanto, o poder do teste nada mais é do que a probabilidade de rejeitar a hipótese nula $H_0$:\n",
    "\n",
    "$P(\\bar{X} < 8.5 \\ \\text{ou} \\  \\bar{X} > 11.5)$\n",
    "\n",
    "Parafrasiando o *livro Estatística Teoria e Aplicações, David M. Levine, 6ª ed, editora LTC* na pg. 310 e parágrafo 1:\n",
    "\n",
    "<mark>\"*A eficácia de um teste (ou poder de um teste), é a probabilidade de que você venha a rejeitar a hipótese nula quando ela é falsa e deve, efetivamente, ser rejeitada.*\"</mark>\n",
    "\n",
    "Iremos realizar as seguintes verificações:\n",
    "\n",
    "* **processo está controlado (amostra adequada)**: criar uma amostra aleatória simples sem reposição de tamanho 602 que venha de uma distribuição normal de média 10 e variância 1.5 e realizar os teste de hipótese e também obter o poder de tal teste.\n",
    "\n",
    "* **processo não está controlado (amostra adequada)**: criar uma amostra aleatória simples sem reposição de tamanho 602 que venha de uma distribuição normal de média 12 e variância 1.5 e realizar os teste de hipótese para ver se haverá rejeição da hipótese nula.\n",
    "\n",
    "* **processo está controlado (amostra não está adequada)**: criar uma amostra aleatória simples sem reposição de tamanho 20 que venha de uma distribuição normal de média 10 e variância 1.5 e realizar os teste de hipótese e também obter o poder de tal teste. \n",
    "\n",
    "* **processo não está controlado (amostra não adequada)**: criar uma amostra aleatória simples sem reposição de tamanho 20 que venha de uma distribuição normal de média 12 e variância 1.5 e realizar os teste de hipótese para ver se haverá rejeição da hipótese nula."
   ]
  },
  {
   "cell_type": "markdown",
   "metadata": {},
   "source": [
    "A seguir temos a definição de nosso teste hipótese:\n",
    "\n",
    "$H_0: \\mu = 10$\n",
    "\n",
    "$H_1: \\mu \\neq 10$"
   ]
  },
  {
   "cell_type": "markdown",
   "metadata": {},
   "source": [
    "### Processo Está Controlado (amostra adequada)"
   ]
  },
  {
   "cell_type": "code",
   "execution_count": 76,
   "metadata": {},
   "outputs": [
    {
     "data": {
      "text/plain": [
       "\n",
       "\tOne Sample t-test\n",
       "\n",
       "data:  amostra\n",
       "t = 0.21934, df = 601, p-value = 0.8265\n",
       "alternative hypothesis: true mean is not equal to 10\n",
       "90 percent confidence interval:\n",
       "  9.912067 10.114945\n",
       "sample estimates:\n",
       "mean of x \n",
       " 10.01351 \n"
      ]
     },
     "metadata": {},
     "output_type": "display_data"
    }
   ],
   "source": [
    "set.seed(seed = 1)\n",
    "lote_de_biripopina = rnorm(n=100000, mean = 10, sd = 1.5)\n",
    "amostra = sample(x = lote_de_biripopina, size = 602, replace = FALSE)\n",
    "t.test(x=amostra,\n",
    "       alternative = \"two.sided\",\n",
    "       mu = 10, \n",
    "       conf.level = 0.9)"
   ]
  },
  {
   "cell_type": "code",
   "execution_count": 77,
   "metadata": {},
   "outputs": [
    {
     "data": {
      "text/html": [
       "1.51080220075873"
      ],
      "text/latex": [
       "1.51080220075873"
      ],
      "text/markdown": [
       "1.51080220075873"
      ],
      "text/plain": [
       "[1] 1.510802"
      ]
     },
     "metadata": {},
     "output_type": "display_data"
    }
   ],
   "source": [
    "desvio_padrao_amostral = sd(amostra)\n",
    "desvio_padrao_amostral"
   ]
  },
  {
   "cell_type": "code",
   "execution_count": 78,
   "metadata": {},
   "outputs": [
    {
     "data": {
      "text/plain": [
       "\n",
       "     One-sample t test power calculation \n",
       "\n",
       "              n = 602\n",
       "          delta = 0.01351\n",
       "             sd = 1.510802\n",
       "      sig.level = 0.1\n",
       "          power = 0.0769781\n",
       "    alternative = two.sided\n"
      ]
     },
     "metadata": {},
     "output_type": "display_data"
    }
   ],
   "source": [
    "power.t.test(n = 602, \n",
    "             delta = 10.01351 - 10, \n",
    "             sd = desvio_padrao_amostral, \n",
    "             sig.level = 0.1,\n",
    "             type = \"one.sample\",\n",
    "             alternative = \"two.sided\")"
   ]
  },
  {
   "cell_type": "markdown",
   "metadata": {},
   "source": [
    "### Processo não Está Controlado (amostra adequada):"
   ]
  },
  {
   "cell_type": "code",
   "execution_count": 81,
   "metadata": {},
   "outputs": [
    {
     "data": {
      "text/plain": [
       "\n",
       "\tOne Sample t-test\n",
       "\n",
       "data:  amostra\n",
       "t = 32.7, df = 601, p-value < 2.2e-16\n",
       "alternative hypothesis: true mean is not equal to 10\n",
       "90 percent confidence interval:\n",
       " 11.91207 12.11495\n",
       "sample estimates:\n",
       "mean of x \n",
       " 12.01351 \n"
      ]
     },
     "metadata": {},
     "output_type": "display_data"
    }
   ],
   "source": [
    "set.seed(seed = 1)\n",
    "lote_de_biripopina = rnorm(n=100000, mean = 12, sd = 1.5)\n",
    "amostra = sample(x = lote_de_biripopina, size = 602, replace = FALSE)\n",
    "t.test(x=amostra,\n",
    "       alternative = \"two.sided\",\n",
    "       mu = 10, \n",
    "       conf.level = 0.9)"
   ]
  },
  {
   "cell_type": "code",
   "execution_count": 82,
   "metadata": {},
   "outputs": [
    {
     "data": {
      "text/html": [
       "1.51080220075873"
      ],
      "text/latex": [
       "1.51080220075873"
      ],
      "text/markdown": [
       "1.51080220075873"
      ],
      "text/plain": [
       "[1] 1.510802"
      ]
     },
     "metadata": {},
     "output_type": "display_data"
    }
   ],
   "source": [
    "desvio_padrao_amostral = sd(amostra)\n",
    "desvio_padrao_amostral"
   ]
  },
  {
   "cell_type": "code",
   "execution_count": 83,
   "metadata": {},
   "outputs": [
    {
     "data": {
      "text/plain": [
       "\n",
       "     One-sample t test power calculation \n",
       "\n",
       "              n = 602\n",
       "          delta = 2.01351\n",
       "             sd = 1.510802\n",
       "      sig.level = 0.1\n",
       "          power = 1\n",
       "    alternative = two.sided\n"
      ]
     },
     "metadata": {},
     "output_type": "display_data"
    }
   ],
   "source": [
    "power.t.test(n = 602, \n",
    "             delta = 12.01351 - 10, \n",
    "             sd = desvio_padrao_amostral, \n",
    "             sig.level = 0.1,\n",
    "             type = \"one.sample\",\n",
    "             alternative = \"two.sided\")"
   ]
  },
  {
   "cell_type": "markdown",
   "metadata": {},
   "source": [
    "### Processo Está Controlado (amostra não está adequada)"
   ]
  },
  {
   "cell_type": "code",
   "execution_count": 84,
   "metadata": {},
   "outputs": [
    {
     "data": {
      "text/plain": [
       "\n",
       "\tOne Sample t-test\n",
       "\n",
       "data:  amostra\n",
       "t = -1.5779, df = 19, p-value = 0.1311\n",
       "alternative hypothesis: true mean is not equal to 10\n",
       "90 percent confidence interval:\n",
       "  8.994543 10.045978\n",
       "sample estimates:\n",
       "mean of x \n",
       "  9.52026 \n"
      ]
     },
     "metadata": {},
     "output_type": "display_data"
    }
   ],
   "source": [
    "set.seed(seed = 1)\n",
    "lote_de_biripopina = rnorm(n=100000, mean = 10, sd = 1.5)\n",
    "amostra = sample(x = lote_de_biripopina, size = 20, replace = FALSE)\n",
    "t.test(x=amostra,\n",
    "       alternative = \"two.sided\",\n",
    "       mu = 10, \n",
    "       conf.level = 0.9)"
   ]
  },
  {
   "cell_type": "code",
   "execution_count": 85,
   "metadata": {},
   "outputs": [
    {
     "data": {
      "text/html": [
       "1.35968687079837"
      ],
      "text/latex": [
       "1.35968687079837"
      ],
      "text/markdown": [
       "1.35968687079837"
      ],
      "text/plain": [
       "[1] 1.359687"
      ]
     },
     "metadata": {},
     "output_type": "display_data"
    }
   ],
   "source": [
    "desvio_padrao_amostral = sd(amostra)\n",
    "desvio_padrao_amostral"
   ]
  },
  {
   "cell_type": "code",
   "execution_count": 86,
   "metadata": {},
   "outputs": [
    {
     "data": {
      "text/plain": [
       "\n",
       "     One-sample t test power calculation \n",
       "\n",
       "              n = 20\n",
       "          delta = 0.041843\n",
       "             sd = 1.359687\n",
       "      sig.level = 0.1\n",
       "          power = 0.06526047\n",
       "    alternative = two.sided\n"
      ]
     },
     "metadata": {},
     "output_type": "display_data"
    }
   ],
   "source": [
    "power.t.test(n = 20, \n",
    "             delta = 9.958157 - 10, \n",
    "             sd = desvio_padrao_amostral, \n",
    "             sig.level = 0.1,\n",
    "             type = \"one.sample\",\n",
    "             alternative = \"two.sided\")"
   ]
  },
  {
   "cell_type": "markdown",
   "metadata": {},
   "source": [
    "### Processo não Está Controlado (amostra não adequada):"
   ]
  },
  {
   "cell_type": "code",
   "execution_count": 1,
   "metadata": {},
   "outputs": [
    {
     "data": {
      "text/plain": [
       "\n",
       "\tOne Sample t-test\n",
       "\n",
       "data:  amostra\n",
       "t = 1.7112, df = 19, p-value = 0.1033\n",
       "alternative hypothesis: true mean is not equal to 10\n",
       "90 percent confidence interval:\n",
       "  9.989086 12.091955\n",
       "sample estimates:\n",
       "mean of x \n",
       " 11.04052 \n"
      ]
     },
     "metadata": {},
     "output_type": "display_data"
    }
   ],
   "source": [
    "set.seed(seed = 1)\n",
    "lote_de_biripopina = rnorm(n=100000, mean = 12, sd = 3)\n",
    "amostra = sample(x = lote_de_biripopina, size = 20, replace = FALSE)\n",
    "t.test(x=amostra,\n",
    "       alternative = \"two.sided\",\n",
    "       mu = 10, \n",
    "       conf.level = 0.9)"
   ]
  },
  {
   "cell_type": "code",
   "execution_count": 2,
   "metadata": {},
   "outputs": [
    {
     "data": {
      "text/html": [
       "2.71937374159673"
      ],
      "text/latex": [
       "2.71937374159673"
      ],
      "text/markdown": [
       "2.71937374159673"
      ],
      "text/plain": [
       "[1] 2.719374"
      ]
     },
     "metadata": {},
     "output_type": "display_data"
    }
   ],
   "source": [
    "desvio_padrao_amostral = sd(amostra)\n",
    "desvio_padrao_amostral"
   ]
  },
  {
   "cell_type": "code",
   "execution_count": 3,
   "metadata": {},
   "outputs": [
    {
     "data": {
      "text/plain": [
       "\n",
       "     One-sample t test power calculation \n",
       "\n",
       "              n = 20\n",
       "          delta = 1.52026\n",
       "             sd = 2.719374\n",
       "      sig.level = 0.1\n",
       "          power = 0.7777768\n",
       "    alternative = two.sided\n"
      ]
     },
     "metadata": {},
     "output_type": "display_data"
    }
   ],
   "source": [
    "power.t.test(n = 20, \n",
    "             delta = 11.52026 - 10, \n",
    "             sd = desvio_padrao_amostral, \n",
    "             sig.level = 0.1,\n",
    "             type = \"one.sample\",\n",
    "             alternative = \"two.sided\")"
   ]
  }
 ],
 "metadata": {
  "kernelspec": {
   "display_name": "R",
   "language": "R",
   "name": "ir"
  },
  "language_info": {
   "codemirror_mode": "r",
   "file_extension": ".r",
   "mimetype": "text/x-r-source",
   "name": "R",
   "pygments_lexer": "r",
   "version": "3.4.4"
  }
 },
 "nbformat": 4,
 "nbformat_minor": 4
}
