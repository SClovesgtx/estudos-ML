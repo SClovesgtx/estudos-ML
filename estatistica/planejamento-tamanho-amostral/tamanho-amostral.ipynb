{
 "cells": [
  {
   "cell_type": "markdown",
   "metadata": {},
   "source": [
    "# O problema\n",
    "\n",
    "Ailton trabalha com controle de qualidade numa empresa farmaceutica chamada Zeta. Ele precisa testar se o novo lote de comprimidos Biripopina tem em média 10g da substância axitomicina por comprimido. Para isso ele precisa tirar da esteira de produção uma Amostra Aleatória Simples sem Reposição que represente bem a população, que neste caso é o lote de 100 mil comprimidos Biripopina. Qual deve ser o tamanho da amostra para se obter nível de confiança sobre o teste seja de 90%?\n",
    "\n",
    "obs: A Norma BTB de padrões de qualidade da insdustria farmaceutica estabelece que a quantidade axitomicina não deve ultrapassar 1,5g de distância da média desejada (8,5g < quantidade de axitomicina < 11,5g). Além disso, deve-se levar em conta que a medição da quantidade de axitomicina no comprimido de Biripopina causa a destruição do mesmo, portanto a amostragem é sem reposição. \n",
    "\n",
    "A seguir veremos 3 diferentes abordagens para resolver esse problema."
   ]
  },
  {
   "cell_type": "markdown",
   "metadata": {},
   "source": [
    "# 1ª Abordagem \n",
    "\n",
    "Essa abordagem trata da Amostragem Aleatória Simples sem Reposição (AASs), que é o caso usado em amostras que precisam ser destruídas após medição do parâmetro desejado.\n",
    "\n",
    "As duas fotos a seguir foram tiradas do livro *Elementos de Amostragem, Heleno Bolfarine & Wilton O. Bussab, 1ª ed, Editora Blucher, pg 79-80*: \n",
    "\n",
    "\n",
    "![](imgs/7.png)\n",
    "![](imgs/8.png)\n",
    "\n",
    "A enquação para calcular o tamanho necessário da amostra é:\n",
    "\n",
    "$n = \\frac{1}{\\frac{D}{\\sigma^2} + \\frac{1}{N}}$\n",
    "\n",
    "O $S$ que aparece na fórmula do livro é o desvio padrão populacional, e para não causar confusão eu substituí por $\\sigma$ que é a notação mais usada.\n",
    "\n",
    "O valor $D$ que aparece na equação é $D = \\frac{\\alpha^2}{z_{\\alpha^2}}$, ou seja, a margem de erro dividido pela estatística $z$ para a margem de erro (nível de significância) $\\alpha$.\n",
    "\n",
    "O valor $N$ é o tamanho da minha população que é o lote de 100 mil comprimidos de Biripopina.\n",
    "\n",
    "Vamos lá identificar valores restantes.\n",
    "\n",
    "\n",
    "### 1º Definir o Valor de $\\alpha$\n",
    "\n",
    "O valor como você havia mencionado é 10%, então precisamos buscar na [tabela Distribuição Normal Padronizada](http://wiki.icmc.usp.br/images/f/f9/Tabela_Normal.pdf) o valor de z que corresponde a $\\alpha$ = 5%, pois desejamos que o erro seja distribuido simetricamente em torno da média desejada, ou seja, um [teste bicaudal](https://pt.wikipedia.org/wiki/Teste_bicaudal#:~:text=Em%20teste%20de%20hip%C3%B3teses%2C%20um,de%20um%20conjunto%20de%20dados.).\n",
    "\n",
    "\n",
    "### 2º Obter o valor de $z$ \n",
    "\n",
    "Então precisamos do valor Z cujo nível de confiança seja 95%, ou seja 0.95. Portanto vamos buscar na tabela o valor de 0.95, ou seja, encontrar Z tal que a probabilidade de $P(Z \\leq z) = 0.95$.\n",
    "\n",
    "Conforme destacado em vermelho no print a seguir, não temos um valor exato de 0.95 na tabela, o valor que chega mais próximo desse valor é 0.9495 e isso nos fornece o valor de z= 1.6 + 0.04 = 1.64.\n",
    "\n",
    "![](imgs/6.png)\n",
    "\n",
    "### 3º Obter o valor de $\\sigma$\n",
    "\n",
    "Não sabemos o valor do desvio padrão da população, e agora?\n",
    "\n",
    "As foto a seguir foi tirada do livro *Estatística Básica, Pedro A. Morettin, 8ª ed, editora Saraiva, pg. 291*\n",
    "![](imgs/10.png)\n",
    "\n",
    "As foto a seguir foi tirada do livro *Estatística Teoria e Aplicações, David M. Levine, 6ª ed, editora LTC, pg. 319*\n",
    "![](imgs/11.png)\n",
    "\n",
    "Portanto podemos usar valores anteriores de desvio padrões amostrais dos comprimidos de Biripopina como uma estimativa de $\\sigma$. Vamos supor que numa amostra de 20 comprimidos de Biripopina que você recolheu mês passado, você obteve um desvio padrão de 1.5, então nosso $\\sigma=1.5$.\n",
    "\n",
    "\n",
    "### Calculando Tamanho da Amostra\n",
    "\n",
    "Com os valores necessários em mãos vamos aos cálculos:\n",
    "\n",
    "$D = \\frac{\\alpha^2}{z_{\\alpha}^2} = \\frac{0.5^2}{1.64^2} = 0.092950624$\n",
    "\n",
    "$n = \\frac{1}{\\frac{0.092950624}{1.5^2} + \\frac{1}{100000}} = 601.52$\n",
    "\n",
    "Arredondando nossa amostra para cima, precisaremos ter o tamanho amostral de pelo menos 602 comprimidos para que eu tenha um nível de confiança de 90% no meu teste.\n",
    "\n",
    "Caso queira usar uma planilha para obter esse resultado clique [aqui](https://docs.google.com/spreadsheets/d/1vOknRuB5RF-caFXv1EP8tgHrDXJPrHj7-gxtTI4rqR8/edit#gid=0)\n"
   ]
  },
  {
   "cell_type": "code",
   "execution_count": 7,
   "metadata": {},
   "outputs": [
    {
     "ename": "ERROR",
     "evalue": "Error in sampleSizeZtest(n = 20, sigma = sigma, delta = (ha - h0)): unused argument (n = 20)\n",
     "output_type": "error",
     "traceback": [
      "Error in sampleSizeZtest(n = 20, sigma = sigma, delta = (ha - h0)): unused argument (n = 20)\nTraceback:\n"
     ]
    }
   ],
   "source": [
    "library(pwr)\n",
    "\n",
    "### Data\n",
    "sigma = 15\n",
    "h0 = 10\n",
    "ha = 12\n",
    "\n",
    "sampleSizeZtest = function(alpha = 0.05, sigma, power, delta){\n",
    "  zcra=qnorm(p = 1-alpha, mean = 10, sd=1.5)\n",
    "  zcrb=qnorm(p = power, mean = 0, sd = 1)\n",
    "  n = round((((zcra+zcrb)*sigma)/delta)^2)\n",
    "  return(n)\n",
    "}\n",
    " \n",
    "### Power analysis\n",
    "# Using the self-made function\n",
    "# powerZtest(n = 20, sigma = sigma, delta = (ha-h0))\n",
    "# Using the pwr package\n",
    "pwr.norm.test(d = (ha - h0)/sigma, n = 20, sig.level = 0.05, alternative = \"greater\")"
   ]
  },
  {
   "cell_type": "code",
   "execution_count": null,
   "metadata": {},
   "outputs": [],
   "source": []
  },
  {
   "attachments": {},
   "cell_type": "markdown",
   "metadata": {},
   "source": [
    "# Abordagem 2\n",
    "\n",
    "Essa abordagem é a mais simples mas a referência que obtive foi um vídeo, precisaríamos de ter uma referência mais confiável. Olhando os comentários do vídeo, o próprio autor do vídeo responde qual a referência:\n",
    "\n",
    "![](imgs/9.png)\n",
    "\n",
    "O autor do vídeo usa uma anotação de aula de uma universidade particular do SP. Portanto <mark>ESSA ABORGEM NÃO SE EMBASA EM FONTES CONFIÁVEIS</mark>, tome cuidado caso deseje usá-la.\n",
    "\n",
    "Dado o aviso, o vídeo em questão é o seguinte [Estatística - Como calcular o tamanho de uma amostra](https://www.youtube.com/watch?v=rQhGUyqUIqk).\n",
    "\n",
    "Segundo essa abordagem precisamos saber:\n",
    "\n",
    "* N: é o tamanho da população, no nosso caso é o tamanho do lote que é 100 mil comprimidos.\n",
    "\n",
    "* $\\epsilon$: a margem de erro desejada que no nosso caso é $\\epsilon=0.10$.\n",
    "\n",
    "Primeiro estimamos o tamanho da nossa amostra pela seguinte fórmula:\n",
    "\n",
    "$n_0 = \\frac{1}{(\\frac{\\epsilon}{2})²} = \\frac{1}{(\\frac{0.10}{2})²} = 400$\n",
    "\n",
    "Depois obtemos o tamanho da amostra acrescentando o tamanho da população N:\n",
    "\n",
    "$n = \\frac{N x n_0}{N + n_0} = \\frac{100000 x 400}{100000 + 400} = 398.4$\n",
    "\n",
    "\n",
    "Arredondando pra cima temos que o tamanho da minimo da amostra deve ser de pelo menos 399. \n",
    "\n",
    "Para fazer esse cálculo usando uma planilha clique [aqui](https://docs.google.com/spreadsheets/d/1vOknRuB5RF-caFXv1EP8tgHrDXJPrHj7-gxtTI4rqR8/edit#gid=2137941145)."
   ]
  }
 ],
 "metadata": {
  "kernelspec": {
   "display_name": "R",
   "language": "R",
   "name": "ir"
  },
  "language_info": {
   "codemirror_mode": "r",
   "file_extension": ".r",
   "mimetype": "text/x-r-source",
   "name": "R",
   "pygments_lexer": "r",
   "version": "3.4.4"
  }
 },
 "nbformat": 4,
 "nbformat_minor": 4
}
