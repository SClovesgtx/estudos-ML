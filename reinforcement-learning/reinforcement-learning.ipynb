{
 "cells": [
  {
   "cell_type": "markdown",
   "metadata": {},
   "source": [
    "* [Robot Carro kit para Raspberry Pi](https://www.amazon.com/-/pt/dp/B07DHDQK14/ref=sr_1_3?__mk_pt_BR=%C3%85M%C3%85%C5%BD%C3%95%C3%91&keywords=raspberry+arms+robo+kit&qid=1573072972&sr=8-3-spell)\n",
    "\n",
    "* [Raspberry Pi Robot Arm With Computer Vision + Image Processing Pics](https://www.youtube.com/watch?v=bL8fScdBOos)\n",
    "\n",
    "* [Raspberry Pi Robots Bring ML to the Classroom](https://www.youtube.com/watch?v=bL8fScdBOos)\n",
    "\n",
    "* [Raspberry Pi Robotics #1: GPIO Control](https://www.youtube.com/watch?v=41IO4Qe5Jzw)\n",
    "\n",
    "* [Arduino Neural Network + Python Upgrade](https://www.youtube.com/watch?v=UZIgix3lzvo)"
   ]
  },
  {
   "cell_type": "code",
   "execution_count": null,
   "metadata": {},
   "outputs": [],
   "source": []
  }
 ],
 "metadata": {
  "kernelspec": {
   "display_name": "Python 3",
   "language": "python",
   "name": "python3"
  },
  "language_info": {
   "codemirror_mode": {
    "name": "ipython",
    "version": 3
   },
   "file_extension": ".py",
   "mimetype": "text/x-python",
   "name": "python",
   "nbconvert_exporter": "python",
   "pygments_lexer": "ipython3",
   "version": "3.6.8"
  }
 },
 "nbformat": 4,
 "nbformat_minor": 2
}
