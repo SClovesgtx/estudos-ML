{
 "cells": [
  {
   "cell_type": "markdown",
   "metadata": {},
   "source": [
    "Anotações tiradas da série de vídeo aulas do canal statQuest: [Classification and Regression Trees](https://www.youtube.com/watch?v=7VeUPuFGJHk&list=PLblh5JKOoLUKAtDViTvRGFpphEc24M-QH)"
   ]
  },
  {
   "cell_type": "markdown",
   "metadata": {},
   "source": [
    "* São intuitivas para interpretar\n",
    "* Podem usar dados categóricos e numéricos na mesma árvore de decisão\n",
    "\n",
    "![](imgs/1.png)\n",
    "\n"
   ]
  },
  {
   "cell_type": "markdown",
   "metadata": {},
   "source": [
    "# Terminologias"
   ]
  },
  {
   "cell_type": "markdown",
   "metadata": {},
   "source": [
    "* *Nó raíz*: o nó que fica no topo da árvore de decisão\n",
    "* *Nós*: são todos os nós abaixo do nó raíz que possuem setas apontando para outro nó ou folha\n",
    "* *Nó folha*: são os nós que dão o resultado da classifricação, não possuem setas levando para outro nós.\n",
    "* *Impureza*: uma variável sozinha não explica 100% da variável dependente, se este fosse o caso ela seria pura, mas há impurezas. Uma forma de medir essa impureza na hora de avaliar quão bem a variável explicativa explica a variável dependente, se costuma usar o [Índice de Gini](https://pt.wikipedia.org/wiki/Coeficiente_de_Gini)."
   ]
  },
  {
   "cell_type": "markdown",
   "metadata": {},
   "source": [
    "# Transformando uma Tabela de dados Numa Árvore de Decisão"
   ]
  },
  {
   "cell_type": "markdown",
   "metadata": {},
   "source": [
    "![](imgs/2.png)"
   ]
  },
  {
   "cell_type": "markdown",
   "metadata": {},
   "source": [
    "# 1º - É preciso escolher qual variável será o nó raíz"
   ]
  },
  {
   "cell_type": "markdown",
   "metadata": {},
   "source": [
    "Para isso é preciso avaliar quão bem cada variável sozinha explica a variável dependente."
   ]
  },
  {
   "cell_type": "markdown",
   "metadata": {},
   "source": [
    "![](imgs/3.png)"
   ]
  },
  {
   "cell_type": "markdown",
   "metadata": {},
   "source": [
    "Para isso, medimos a impureza de cada *Nó Folha* de cada variável olhando para a métrica Indice de Gini, que mede a desigualdade entre as duas variáveis em questão."
   ]
  },
  {
   "cell_type": "markdown",
   "metadata": {},
   "source": [
    "![](imgs/4.png)"
   ]
  },
  {
   "cell_type": "markdown",
   "metadata": {},
   "source": [
    "E depois precisamos ponderar o resultado do ìndice de Gini pela porcentagem de pessoas (do total das pessoas que cairam nos *Nós Folhas* em questão) que cada *Nó Folha* representa. "
   ]
  },
  {
   "cell_type": "markdown",
   "metadata": {},
   "source": [
    "![](imgs/5.png)"
   ]
  },
  {
   "cell_type": "markdown",
   "metadata": {},
   "source": [
    " ![](imgs/6.png)"
   ]
  },
  {
   "cell_type": "markdown",
   "metadata": {},
   "source": [
    "Escolha a variável candidata para *Nó Raíz* que for menos impura, ou seja, que tenha um índice de Gini mais baixo."
   ]
  },
  {
   "cell_type": "markdown",
   "metadata": {},
   "source": [
    "![](imgs/7.png)"
   ]
  },
  {
   "cell_type": "markdown",
   "metadata": {},
   "source": [
    "# 2º - Entrar num loop escolhendo as variáveis que melhor explicam a variável depentende dentro de cada Nó resultante do Nó Raíz e dos Nós Intermediários."
   ]
  },
  {
   "cell_type": "markdown",
   "metadata": {},
   "source": [
    "Tendo o *Nó Raíz* sido escolhido precisamos escolher, para cada um dos 2 *Nós* que saem do *Nó Raíz*,  variáveis que melhor explicam a variável dependente para os pacientes que caíram nos 2 *Nós* resultantes do *Nó Raíz*, ou seja, precisamos repetir os passos anteriores, até que não reste mais variáveis para separar os pacientes de um determinado Nó, tornando estes últimos nós os *Nós Folhas*."
   ]
  },
  {
   "cell_type": "markdown",
   "metadata": {},
   "source": [
    "![](imgs/8.png)"
   ]
  },
  {
   "cell_type": "markdown",
   "metadata": {},
   "source": [
    "Segue o algoritmo:\n",
    "\n",
    "![](imgs/9.png)"
   ]
  },
  {
   "cell_type": "markdown",
   "metadata": {},
   "source": [
    "# E para Variáveis Numéricas, como proceder da avaliação de impureza?"
   ]
  },
  {
   "cell_type": "markdown",
   "metadata": {},
   "source": [
    "![](imgs/10.png)"
   ]
  },
  {
   "cell_type": "markdown",
   "metadata": {},
   "source": [
    "![](imgs/11.png)"
   ]
  },
  {
   "cell_type": "markdown",
   "metadata": {},
   "source": [
    "![](imgs/12.png)"
   ]
  },
  {
   "cell_type": "markdown",
   "metadata": {},
   "source": [
    "Exemplo:"
   ]
  },
  {
   "cell_type": "markdown",
   "metadata": {},
   "source": [
    "![](imgs/13.png)"
   ]
  },
  {
   "cell_type": "markdown",
   "metadata": {},
   "source": [
    "![](imgs/14.png)"
   ]
  },
  {
   "cell_type": "markdown",
   "metadata": {},
   "source": [
    "# Usando dados de ordinais ou de múltipla escolha"
   ]
  },
  {
   "cell_type": "markdown",
   "metadata": {},
   "source": [
    "Se os dados ordinais forem, por exemplo, votos de 1 a 4 estrelas, sendo uma estrela muito ruim e 4 estrelas ótimo. Então para calcular a impureza, fazemos para <= 1, <= 2, <=3."
   ]
  },
  {
   "cell_type": "markdown",
   "metadata": {},
   "source": [
    "![](imgs/15.png)"
   ]
  },
  {
   "cell_type": "markdown",
   "metadata": {},
   "source": [
    "Se tivermos dados de múltiplas escolhas, como escolher entre as cores verde, vermelho e azul, podemos formar as seguintes possibilidades de  escolhas."
   ]
  },
  {
   "cell_type": "markdown",
   "metadata": {},
   "source": [
    "![](imgs/16.png)"
   ]
  },
  {
   "cell_type": "markdown",
   "metadata": {},
   "source": [
    "# Seleção de Features"
   ]
  },
  {
   "cell_type": "markdown",
   "metadata": {},
   "source": [
    "A seleção de features pode ser feito definindo um limiar (Threshold) que indique a quantidade de ganho de redução de impureza necessária para que um Nó seja do tipo Nó Intermediário, caso o Nó em questão não gere um ganho significativo na redução de impureza, tornamos este Nó um Nó Folha."
   ]
  },
  {
   "cell_type": "markdown",
   "metadata": {},
   "source": [
    "# Lidando com Dados Faltantes"
   ]
  },
  {
   "cell_type": "markdown",
   "metadata": {},
   "source": [
    "* No caso de uma coluna *A* com diversos valores categóricos que não são usados em mais nenhuma outra coluna, podemos preencher o  dado faltante com a categoria mais comum.\n",
    "\n",
    "* caso os dados categóricos dessa coluna *A* se repitam em outras colunas (true ou false, sim ou não), podemos procurar outra coluna quetenha maior correlação, suponhamos ser a coluna *B*, e usa-la como guia para preencher os dados faltates. Ex:\n",
    "\n",
    "![](imgs/17.png)"
   ]
  },
  {
   "cell_type": "markdown",
   "metadata": {},
   "source": [
    "* caso os dados de uma coluna sejam numéricos, podemos substituir os dados faltantes com a média, ou mediana, dessa coluna. \n",
    "\n",
    "* Outra opção para dados numéricos e encontrar outra coluna numéricas que mais se correlaciona com a coluna em questão e gerar uma regressão para prever o valor do dado faltante.\n",
    "\n",
    "![](imgs/18.png)"
   ]
  }
 ],
 "metadata": {
  "kernelspec": {
   "display_name": "Python 3",
   "language": "python",
   "name": "python3"
  },
  "language_info": {
   "codemirror_mode": {
    "name": "ipython",
    "version": 3
   },
   "file_extension": ".py",
   "mimetype": "text/x-python",
   "name": "python",
   "nbconvert_exporter": "python",
   "pygments_lexer": "ipython3",
   "version": "3.6.9"
  }
 },
 "nbformat": 4,
 "nbformat_minor": 4
}
