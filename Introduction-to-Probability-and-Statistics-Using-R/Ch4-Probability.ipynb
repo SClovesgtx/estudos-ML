{
 "cells": [
  {
   "cell_type": "markdown",
   "metadata": {},
   "source": [
    "# Espaço Amostral\n",
    "\n",
    "Definições:\n",
    "\n",
    "\"*For a random experiment E, the set of all possible outcomes of E is called the sample space\n",
    "and is denoted by the letter S . For the coin-toss experiment, S would be the results “Head”\n",
    "and “Tail”, which we may represent by S = {H, T }. A sample space is (usually) represented by a data frame, that is, a rectangular collection of variables.*\" - **G. Jay Kerns in Introduction to Probability and Statistics with R**\n",
    "\n",
    "\"*Denominamos espaço amostral associado a um exeperimento o conjunto de seus resultados possíveis*\" - **Carlos Dandas no livro Noções Básicas de Probabilidade - Edusp.**"
   ]
  },
  {
   "cell_type": "code",
   "execution_count": 8,
   "metadata": {},
   "outputs": [
    {
     "data": {
      "text/html": [
       "<table>\n",
       "<caption>A data.frame: 8 × 3</caption>\n",
       "<thead>\n",
       "\t<tr><th scope=col>toss1</th><th scope=col>toss2</th><th scope=col>toss3</th></tr>\n",
       "\t<tr><th scope=col>&lt;fct&gt;</th><th scope=col>&lt;fct&gt;</th><th scope=col>&lt;fct&gt;</th></tr>\n",
       "</thead>\n",
       "<tbody>\n",
       "\t<tr><td>H</td><td>H</td><td>H</td></tr>\n",
       "\t<tr><td>T</td><td>H</td><td>H</td></tr>\n",
       "\t<tr><td>H</td><td>T</td><td>H</td></tr>\n",
       "\t<tr><td>T</td><td>T</td><td>H</td></tr>\n",
       "\t<tr><td>H</td><td>H</td><td>T</td></tr>\n",
       "\t<tr><td>T</td><td>H</td><td>T</td></tr>\n",
       "\t<tr><td>H</td><td>T</td><td>T</td></tr>\n",
       "\t<tr><td>T</td><td>T</td><td>T</td></tr>\n",
       "</tbody>\n",
       "</table>\n"
      ],
      "text/latex": [
       "A data.frame: 8 × 3\n",
       "\\begin{tabular}{lll}\n",
       " toss1 & toss2 & toss3\\\\\n",
       " <fct> & <fct> & <fct>\\\\\n",
       "\\hline\n",
       "\t H & H & H\\\\\n",
       "\t T & H & H\\\\\n",
       "\t H & T & H\\\\\n",
       "\t T & T & H\\\\\n",
       "\t H & H & T\\\\\n",
       "\t T & H & T\\\\\n",
       "\t H & T & T\\\\\n",
       "\t T & T & T\\\\\n",
       "\\end{tabular}\n"
      ],
      "text/markdown": [
       "\n",
       "A data.frame: 8 × 3\n",
       "\n",
       "| toss1 &lt;fct&gt; | toss2 &lt;fct&gt; | toss3 &lt;fct&gt; |\n",
       "|---|---|---|\n",
       "| H | H | H |\n",
       "| T | H | H |\n",
       "| H | T | H |\n",
       "| T | T | H |\n",
       "| H | H | T |\n",
       "| T | H | T |\n",
       "| H | T | T |\n",
       "| T | T | T |\n",
       "\n"
      ],
      "text/plain": [
       "  toss1 toss2 toss3\n",
       "1 H     H     H    \n",
       "2 T     H     H    \n",
       "3 H     T     H    \n",
       "4 T     T     H    \n",
       "5 H     H     T    \n",
       "6 T     H     T    \n",
       "7 H     T     T    \n",
       "8 T     T     T    "
      ]
     },
     "metadata": {},
     "output_type": "display_data"
    }
   ],
   "source": [
    "library(prob)\n",
    "\n",
    "tosscoin(3) #The number 3 tells tosscoin that we only want to toss the coin three times"
   ]
  },
  {
   "cell_type": "code",
   "execution_count": 9,
   "metadata": {},
   "outputs": [
    {
     "data": {
      "text/html": [
       "<table>\n",
       "<caption>A data.frame: 6 × 1</caption>\n",
       "<thead>\n",
       "\t<tr><th scope=col>X1</th></tr>\n",
       "\t<tr><th scope=col>&lt;int&gt;</th></tr>\n",
       "</thead>\n",
       "<tbody>\n",
       "\t<tr><td>1</td></tr>\n",
       "\t<tr><td>2</td></tr>\n",
       "\t<tr><td>3</td></tr>\n",
       "\t<tr><td>4</td></tr>\n",
       "\t<tr><td>5</td></tr>\n",
       "\t<tr><td>6</td></tr>\n",
       "</tbody>\n",
       "</table>\n"
      ],
      "text/latex": [
       "A data.frame: 6 × 1\n",
       "\\begin{tabular}{l}\n",
       " X1\\\\\n",
       " <int>\\\\\n",
       "\\hline\n",
       "\t 1\\\\\n",
       "\t 2\\\\\n",
       "\t 3\\\\\n",
       "\t 4\\\\\n",
       "\t 5\\\\\n",
       "\t 6\\\\\n",
       "\\end{tabular}\n"
      ],
      "text/markdown": [
       "\n",
       "A data.frame: 6 × 1\n",
       "\n",
       "| X1 &lt;int&gt; |\n",
       "|---|\n",
       "| 1 |\n",
       "| 2 |\n",
       "| 3 |\n",
       "| 4 |\n",
       "| 5 |\n",
       "| 6 |\n",
       "\n"
      ],
      "text/plain": [
       "  X1\n",
       "1 1 \n",
       "2 2 \n",
       "3 3 \n",
       "4 4 \n",
       "5 5 \n",
       "6 6 "
      ]
     },
     "metadata": {},
     "output_type": "display_data"
    }
   ],
   "source": [
    "rolldie(1)"
   ]
  },
  {
   "cell_type": "code",
   "execution_count": 16,
   "metadata": {},
   "outputs": [
    {
     "data": {
      "text/html": [
       "<table>\n",
       "<caption>A data.frame: 6 × 3</caption>\n",
       "<thead>\n",
       "\t<tr><th></th><th scope=col>X1</th><th scope=col>X2</th><th scope=col>X3</th></tr>\n",
       "\t<tr><th></th><th scope=col>&lt;int&gt;</th><th scope=col>&lt;int&gt;</th><th scope=col>&lt;int&gt;</th></tr>\n",
       "</thead>\n",
       "<tbody>\n",
       "\t<tr><th scope=row>1</th><td>1</td><td>1</td><td>1</td></tr>\n",
       "\t<tr><th scope=row>2</th><td>2</td><td>1</td><td>1</td></tr>\n",
       "\t<tr><th scope=row>3</th><td>3</td><td>1</td><td>1</td></tr>\n",
       "\t<tr><th scope=row>4</th><td>4</td><td>1</td><td>1</td></tr>\n",
       "\t<tr><th scope=row>5</th><td>1</td><td>2</td><td>1</td></tr>\n",
       "\t<tr><th scope=row>6</th><td>2</td><td>2</td><td>1</td></tr>\n",
       "</tbody>\n",
       "</table>\n"
      ],
      "text/latex": [
       "A data.frame: 6 × 3\n",
       "\\begin{tabular}{r|lll}\n",
       "  & X1 & X2 & X3\\\\\n",
       "  & <int> & <int> & <int>\\\\\n",
       "\\hline\n",
       "\t1 & 1 & 1 & 1\\\\\n",
       "\t2 & 2 & 1 & 1\\\\\n",
       "\t3 & 3 & 1 & 1\\\\\n",
       "\t4 & 4 & 1 & 1\\\\\n",
       "\t5 & 1 & 2 & 1\\\\\n",
       "\t6 & 2 & 2 & 1\\\\\n",
       "\\end{tabular}\n"
      ],
      "text/markdown": [
       "\n",
       "A data.frame: 6 × 3\n",
       "\n",
       "| <!--/--> | X1 &lt;int&gt; | X2 &lt;int&gt; | X3 &lt;int&gt; |\n",
       "|---|---|---|---|\n",
       "| 1 | 1 | 1 | 1 |\n",
       "| 2 | 2 | 1 | 1 |\n",
       "| 3 | 3 | 1 | 1 |\n",
       "| 4 | 4 | 1 | 1 |\n",
       "| 5 | 1 | 2 | 1 |\n",
       "| 6 | 2 | 2 | 1 |\n",
       "\n"
      ],
      "text/plain": [
       "  X1 X2 X3\n",
       "1 1  1  1 \n",
       "2 2  1  1 \n",
       "3 3  1  1 \n",
       "4 4  1  1 \n",
       "5 1  2  1 \n",
       "6 2  2  1 "
      ]
     },
     "metadata": {},
     "output_type": "display_data"
    }
   ],
   "source": [
    "head(rolldie(3, nside=4))#would be used to roll a 4-sided die three times."
   ]
  },
  {
   "cell_type": "code",
   "execution_count": 11,
   "metadata": {},
   "outputs": [
    {
     "data": {
      "text/html": [
       "<table>\n",
       "<caption>A data.frame: 6 × 2</caption>\n",
       "<thead>\n",
       "\t<tr><th></th><th scope=col>rank</th><th scope=col>suit</th></tr>\n",
       "\t<tr><th></th><th scope=col>&lt;fct&gt;</th><th scope=col>&lt;fct&gt;</th></tr>\n",
       "</thead>\n",
       "<tbody>\n",
       "\t<tr><th scope=row>1</th><td>2</td><td>Club</td></tr>\n",
       "\t<tr><th scope=row>2</th><td>3</td><td>Club</td></tr>\n",
       "\t<tr><th scope=row>3</th><td>4</td><td>Club</td></tr>\n",
       "\t<tr><th scope=row>4</th><td>5</td><td>Club</td></tr>\n",
       "\t<tr><th scope=row>5</th><td>6</td><td>Club</td></tr>\n",
       "\t<tr><th scope=row>6</th><td>7</td><td>Club</td></tr>\n",
       "</tbody>\n",
       "</table>\n"
      ],
      "text/latex": [
       "A data.frame: 6 × 2\n",
       "\\begin{tabular}{r|ll}\n",
       "  & rank & suit\\\\\n",
       "  & <fct> & <fct>\\\\\n",
       "\\hline\n",
       "\t1 & 2 & Club\\\\\n",
       "\t2 & 3 & Club\\\\\n",
       "\t3 & 4 & Club\\\\\n",
       "\t4 & 5 & Club\\\\\n",
       "\t5 & 6 & Club\\\\\n",
       "\t6 & 7 & Club\\\\\n",
       "\\end{tabular}\n"
      ],
      "text/markdown": [
       "\n",
       "A data.frame: 6 × 2\n",
       "\n",
       "| <!--/--> | rank &lt;fct&gt; | suit &lt;fct&gt; |\n",
       "|---|---|---|\n",
       "| 1 | 2 | Club |\n",
       "| 2 | 3 | Club |\n",
       "| 3 | 4 | Club |\n",
       "| 4 | 5 | Club |\n",
       "| 5 | 6 | Club |\n",
       "| 6 | 7 | Club |\n",
       "\n"
      ],
      "text/plain": [
       "  rank suit\n",
       "1 2    Club\n",
       "2 3    Club\n",
       "3 4    Club\n",
       "4 5    Club\n",
       "5 6    Club\n",
       "6 7    Club"
      ]
     },
     "metadata": {},
     "output_type": "display_data"
    }
   ],
   "source": [
    "head(cards())"
   ]
  },
  {
   "cell_type": "markdown",
   "metadata": {},
   "source": [
    "# Amostragem de Urnas"
   ]
  },
  {
   "cell_type": "markdown",
   "metadata": {},
   "source": [
    "Boa parte dos eventos aleatórios são análogos a obtenção de uma amostra retirada de uma urna com bolinhas que contenham alguma marcação. \n",
    "\n",
    "\"Tossing a coin twice is equivalent to selecting two balls labeled H and T from an urn, with replacement. The die-roll experiment is equivalent to selecting a ball from an urn with six elements, labeled 1 through 6.\" "
   ]
  },
  {
   "cell_type": "markdown",
   "metadata": {},
   "source": [
    "### Ordenado com Reposição (quando a ordem importa) $N^n$\n",
    "\n",
    "Definição: \"*Uma amostra é dita ordenada se os seus elementos forem ordenados, isto é, se duas amostras com os mesmos elementos, porém em ordens distintas, forem consideradas diferentes.*\" **Carlos Dandas no livro Noções Básicas de Probabilidade - Edusp.**\n",
    "\n",
    "O número de amostras ordenadas com reposição de tamanho n, de um conjunto com N elementos é igual a $N^n$."
   ]
  },
  {
   "cell_type": "code",
   "execution_count": 15,
   "metadata": {},
   "outputs": [
    {
     "data": {
      "text/html": [
       "<table>\n",
       "<caption>A data.frame: 9 × 2</caption>\n",
       "<thead>\n",
       "\t<tr><th scope=col>X1</th><th scope=col>X2</th></tr>\n",
       "\t<tr><th scope=col>&lt;int&gt;</th><th scope=col>&lt;int&gt;</th></tr>\n",
       "</thead>\n",
       "<tbody>\n",
       "\t<tr><td>1</td><td>1</td></tr>\n",
       "\t<tr><td>2</td><td>1</td></tr>\n",
       "\t<tr><td>3</td><td>1</td></tr>\n",
       "\t<tr><td>1</td><td>2</td></tr>\n",
       "\t<tr><td>2</td><td>2</td></tr>\n",
       "\t<tr><td>3</td><td>2</td></tr>\n",
       "\t<tr><td>1</td><td>3</td></tr>\n",
       "\t<tr><td>2</td><td>3</td></tr>\n",
       "\t<tr><td>3</td><td>3</td></tr>\n",
       "</tbody>\n",
       "</table>\n"
      ],
      "text/latex": [
       "A data.frame: 9 × 2\n",
       "\\begin{tabular}{ll}\n",
       " X1 & X2\\\\\n",
       " <int> & <int>\\\\\n",
       "\\hline\n",
       "\t 1 & 1\\\\\n",
       "\t 2 & 1\\\\\n",
       "\t 3 & 1\\\\\n",
       "\t 1 & 2\\\\\n",
       "\t 2 & 2\\\\\n",
       "\t 3 & 2\\\\\n",
       "\t 1 & 3\\\\\n",
       "\t 2 & 3\\\\\n",
       "\t 3 & 3\\\\\n",
       "\\end{tabular}\n"
      ],
      "text/markdown": [
       "\n",
       "A data.frame: 9 × 2\n",
       "\n",
       "| X1 &lt;int&gt; | X2 &lt;int&gt; |\n",
       "|---|---|\n",
       "| 1 | 1 |\n",
       "| 2 | 1 |\n",
       "| 3 | 1 |\n",
       "| 1 | 2 |\n",
       "| 2 | 2 |\n",
       "| 3 | 2 |\n",
       "| 1 | 3 |\n",
       "| 2 | 3 |\n",
       "| 3 | 3 |\n",
       "\n"
      ],
      "text/plain": [
       "  X1 X2\n",
       "1 1  1 \n",
       "2 2  1 \n",
       "3 3  1 \n",
       "4 1  2 \n",
       "5 2  2 \n",
       "6 3  2 \n",
       "7 1  3 \n",
       "8 2  3 \n",
       "9 3  3 "
      ]
     },
     "metadata": {},
     "output_type": "display_data"
    }
   ],
   "source": [
    "# (2, 1) é diferente de (1, 2)\n",
    "urnsamples(x=1:3, size=2, replace = TRUE, ordered = TRUE)"
   ]
  },
  {
   "cell_type": "markdown",
   "metadata": {},
   "source": [
    "\"This experiment is equivalent to rolling a 3-sided die twice, which we could have accomplished with rolldie(2, nsides = 3)\""
   ]
  },
  {
   "cell_type": "code",
   "execution_count": 14,
   "metadata": {},
   "outputs": [
    {
     "data": {
      "text/html": [
       "<table>\n",
       "<caption>A data.frame: 9 × 2</caption>\n",
       "<thead>\n",
       "\t<tr><th scope=col>X1</th><th scope=col>X2</th></tr>\n",
       "\t<tr><th scope=col>&lt;int&gt;</th><th scope=col>&lt;int&gt;</th></tr>\n",
       "</thead>\n",
       "<tbody>\n",
       "\t<tr><td>1</td><td>1</td></tr>\n",
       "\t<tr><td>2</td><td>1</td></tr>\n",
       "\t<tr><td>3</td><td>1</td></tr>\n",
       "\t<tr><td>1</td><td>2</td></tr>\n",
       "\t<tr><td>2</td><td>2</td></tr>\n",
       "\t<tr><td>3</td><td>2</td></tr>\n",
       "\t<tr><td>1</td><td>3</td></tr>\n",
       "\t<tr><td>2</td><td>3</td></tr>\n",
       "\t<tr><td>3</td><td>3</td></tr>\n",
       "</tbody>\n",
       "</table>\n"
      ],
      "text/latex": [
       "A data.frame: 9 × 2\n",
       "\\begin{tabular}{ll}\n",
       " X1 & X2\\\\\n",
       " <int> & <int>\\\\\n",
       "\\hline\n",
       "\t 1 & 1\\\\\n",
       "\t 2 & 1\\\\\n",
       "\t 3 & 1\\\\\n",
       "\t 1 & 2\\\\\n",
       "\t 2 & 2\\\\\n",
       "\t 3 & 2\\\\\n",
       "\t 1 & 3\\\\\n",
       "\t 2 & 3\\\\\n",
       "\t 3 & 3\\\\\n",
       "\\end{tabular}\n"
      ],
      "text/markdown": [
       "\n",
       "A data.frame: 9 × 2\n",
       "\n",
       "| X1 &lt;int&gt; | X2 &lt;int&gt; |\n",
       "|---|---|\n",
       "| 1 | 1 |\n",
       "| 2 | 1 |\n",
       "| 3 | 1 |\n",
       "| 1 | 2 |\n",
       "| 2 | 2 |\n",
       "| 3 | 2 |\n",
       "| 1 | 3 |\n",
       "| 2 | 3 |\n",
       "| 3 | 3 |\n",
       "\n"
      ],
      "text/plain": [
       "  X1 X2\n",
       "1 1  1 \n",
       "2 2  1 \n",
       "3 3  1 \n",
       "4 1  2 \n",
       "5 2  2 \n",
       "6 3  2 \n",
       "7 1  3 \n",
       "8 2  3 \n",
       "9 3  3 "
      ]
     },
     "metadata": {},
     "output_type": "display_data"
    }
   ],
   "source": [
    "rolldie(2, nsides = 3)"
   ]
  },
  {
   "cell_type": "markdown",
   "metadata": {},
   "source": [
    "### Ordenado sem Reposição $(N)_n$\n",
    "\n",
    "O número de amostras ordenadas sem reposição de tamanho n, de um conjunto de N elementos, que será denotado por:\n",
    "\n",
    "$(N)_n = N(N-1)...(N-n+1)$\n",
    "\n",
    "Exemplo:\n",
    "\n",
    "$(20)_3 = \\frac{20!}{(20-3)!} =  20.19.18 = 6840$"
   ]
  },
  {
   "cell_type": "code",
   "execution_count": 18,
   "metadata": {},
   "outputs": [
    {
     "data": {
      "text/html": [
       "<table>\n",
       "<caption>A data.frame: 6 × 2</caption>\n",
       "<thead>\n",
       "\t<tr><th scope=col>X1</th><th scope=col>X2</th></tr>\n",
       "\t<tr><th scope=col>&lt;int&gt;</th><th scope=col>&lt;int&gt;</th></tr>\n",
       "</thead>\n",
       "<tbody>\n",
       "\t<tr><td>1</td><td>2</td></tr>\n",
       "\t<tr><td>2</td><td>1</td></tr>\n",
       "\t<tr><td>1</td><td>3</td></tr>\n",
       "\t<tr><td>3</td><td>1</td></tr>\n",
       "\t<tr><td>2</td><td>3</td></tr>\n",
       "\t<tr><td>3</td><td>2</td></tr>\n",
       "</tbody>\n",
       "</table>\n"
      ],
      "text/latex": [
       "A data.frame: 6 × 2\n",
       "\\begin{tabular}{ll}\n",
       " X1 & X2\\\\\n",
       " <int> & <int>\\\\\n",
       "\\hline\n",
       "\t 1 & 2\\\\\n",
       "\t 2 & 1\\\\\n",
       "\t 1 & 3\\\\\n",
       "\t 3 & 1\\\\\n",
       "\t 2 & 3\\\\\n",
       "\t 3 & 2\\\\\n",
       "\\end{tabular}\n"
      ],
      "text/markdown": [
       "\n",
       "A data.frame: 6 × 2\n",
       "\n",
       "| X1 &lt;int&gt; | X2 &lt;int&gt; |\n",
       "|---|---|\n",
       "| 1 | 2 |\n",
       "| 2 | 1 |\n",
       "| 1 | 3 |\n",
       "| 3 | 1 |\n",
       "| 2 | 3 |\n",
       "| 3 | 2 |\n",
       "\n"
      ],
      "text/plain": [
       "  X1 X2\n",
       "1 1  2 \n",
       "2 2  1 \n",
       "3 1  3 \n",
       "4 3  1 \n",
       "5 2  3 \n",
       "6 3  2 "
      ]
     },
     "metadata": {},
     "output_type": "display_data"
    }
   ],
   "source": [
    "# não tem como tirar (1, 1), (2, 2) e (3, 3)\n",
    "# pois o número não retorna a urna.\n",
    "urnsamples(1:3, size = 2, replace = FALSE, ordered = TRUE)"
   ]
  },
  {
   "cell_type": "code",
   "execution_count": 20,
   "metadata": {},
   "outputs": [
    {
     "data": {
      "text/html": [
       "<table>\n",
       "<caption>A data.frame: 6 × 2</caption>\n",
       "<thead>\n",
       "\t<tr><th scope=col>X1</th><th scope=col>X2</th></tr>\n",
       "\t<tr><th scope=col>&lt;fct&gt;</th><th scope=col>&lt;fct&gt;</th></tr>\n",
       "</thead>\n",
       "<tbody>\n",
       "\t<tr><td>Cloves</td><td>Ivan  </td></tr>\n",
       "\t<tr><td>Ivan  </td><td>Cloves</td></tr>\n",
       "\t<tr><td>Cloves</td><td>Ítalo </td></tr>\n",
       "\t<tr><td>Ítalo </td><td>Cloves</td></tr>\n",
       "\t<tr><td>Ivan  </td><td>Ítalo </td></tr>\n",
       "\t<tr><td>Ítalo </td><td>Ivan  </td></tr>\n",
       "</tbody>\n",
       "</table>\n"
      ],
      "text/latex": [
       "A data.frame: 6 × 2\n",
       "\\begin{tabular}{ll}\n",
       " X1 & X2\\\\\n",
       " <fct> & <fct>\\\\\n",
       "\\hline\n",
       "\t Cloves & Ivan  \\\\\n",
       "\t Ivan   & Cloves\\\\\n",
       "\t Cloves & Ítalo \\\\\n",
       "\t Ítalo  & Cloves\\\\\n",
       "\t Ivan   & Ítalo \\\\\n",
       "\t Ítalo  & Ivan  \\\\\n",
       "\\end{tabular}\n"
      ],
      "text/markdown": [
       "\n",
       "A data.frame: 6 × 2\n",
       "\n",
       "| X1 &lt;fct&gt; | X2 &lt;fct&gt; |\n",
       "|---|---|\n",
       "| Cloves | Ivan   |\n",
       "| Ivan   | Cloves |\n",
       "| Cloves | Ítalo  |\n",
       "| Ítalo  | Cloves |\n",
       "| Ivan   | Ítalo  |\n",
       "| Ítalo  | Ivan   |\n",
       "\n"
      ],
      "text/plain": [
       "  X1     X2    \n",
       "1 Cloves Ivan  \n",
       "2 Ivan   Cloves\n",
       "3 Cloves Ítalo \n",
       "4 Ítalo  Cloves\n",
       "5 Ivan   Ítalo \n",
       "6 Ítalo  Ivan  "
      ]
     },
     "metadata": {},
     "output_type": "display_data"
    }
   ],
   "source": [
    "# preciso selecionar 2 de 3 pessoas (Cloves, Ivan e Ítalo)\n",
    "# para assumirem as posições X1 e X2 na empresa.\n",
    "\n",
    "# essas seriam as possíveis esolhas\n",
    "urnsamples(c(\"Cloves\", \"Ivan\", \"Ítalo\"), size = 2, replace = FALSE, ordered = TRUE)"
   ]
  },
  {
   "cell_type": "markdown",
   "metadata": {},
   "source": [
    "### Não Ordenado e sem Reposição $C_{N,n} = \\frac{(N)_n}{P_n} = \\frac{N!}{n!(N-n)!} = \\binom{N}{n}$ "
   ]
  },
  {
   "cell_type": "code",
   "execution_count": 21,
   "metadata": {},
   "outputs": [
    {
     "data": {
      "text/html": [
       "<table>\n",
       "<caption>A data.frame: 3 × 2</caption>\n",
       "<thead>\n",
       "\t<tr><th scope=col>X1</th><th scope=col>X2</th></tr>\n",
       "\t<tr><th scope=col>&lt;fct&gt;</th><th scope=col>&lt;fct&gt;</th></tr>\n",
       "</thead>\n",
       "<tbody>\n",
       "\t<tr><td>Cloves</td><td>Ivan </td></tr>\n",
       "\t<tr><td>Cloves</td><td>Ítalo</td></tr>\n",
       "\t<tr><td>Ivan  </td><td>Ítalo</td></tr>\n",
       "</tbody>\n",
       "</table>\n"
      ],
      "text/latex": [
       "A data.frame: 3 × 2\n",
       "\\begin{tabular}{ll}\n",
       " X1 & X2\\\\\n",
       " <fct> & <fct>\\\\\n",
       "\\hline\n",
       "\t Cloves & Ivan \\\\\n",
       "\t Cloves & Ítalo\\\\\n",
       "\t Ivan   & Ítalo\\\\\n",
       "\\end{tabular}\n"
      ],
      "text/markdown": [
       "\n",
       "A data.frame: 3 × 2\n",
       "\n",
       "| X1 &lt;fct&gt; | X2 &lt;fct&gt; |\n",
       "|---|---|\n",
       "| Cloves | Ivan  |\n",
       "| Cloves | Ítalo |\n",
       "| Ivan   | Ítalo |\n",
       "\n"
      ],
      "text/plain": [
       "  X1     X2   \n",
       "1 Cloves Ivan \n",
       "2 Cloves Ítalo\n",
       "3 Ivan   Ítalo"
      ]
     },
     "metadata": {},
     "output_type": "display_data"
    }
   ],
   "source": [
    "# preciso selecionar 2 de 3 pessoas (Cloves, Ivan e Ítalo)\n",
    "# para participarem de uma comissão.\n",
    "\n",
    "# essas seriam as possíveis esolhas\n",
    "urnsamples(c(\"Cloves\", \"Ivan\", \"Ítalo\"), size = 2, replace = FALSE, ordered = FALSE)"
   ]
  },
  {
   "cell_type": "markdown",
   "metadata": {},
   "source": [
    "### Não Ordenado e com Reposição"
   ]
  },
  {
   "cell_type": "code",
   "execution_count": 25,
   "metadata": {},
   "outputs": [
    {
     "data": {
      "text/html": [
       "<table>\n",
       "<caption>A data.frame: 6 × 2</caption>\n",
       "<thead>\n",
       "\t<tr><th scope=col>X1</th><th scope=col>X2</th></tr>\n",
       "\t<tr><th scope=col>&lt;fct&gt;</th><th scope=col>&lt;fct&gt;</th></tr>\n",
       "</thead>\n",
       "<tbody>\n",
       "\t<tr><td>Cloves</td><td>Cloves</td></tr>\n",
       "\t<tr><td>Cloves</td><td>Ivan  </td></tr>\n",
       "\t<tr><td>Cloves</td><td>Ítalo </td></tr>\n",
       "\t<tr><td>Ivan  </td><td>Ivan  </td></tr>\n",
       "\t<tr><td>Ivan  </td><td>Ítalo </td></tr>\n",
       "\t<tr><td>Ítalo </td><td>Ítalo </td></tr>\n",
       "</tbody>\n",
       "</table>\n"
      ],
      "text/latex": [
       "A data.frame: 6 × 2\n",
       "\\begin{tabular}{ll}\n",
       " X1 & X2\\\\\n",
       " <fct> & <fct>\\\\\n",
       "\\hline\n",
       "\t Cloves & Cloves\\\\\n",
       "\t Cloves & Ivan  \\\\\n",
       "\t Cloves & Ítalo \\\\\n",
       "\t Ivan   & Ivan  \\\\\n",
       "\t Ivan   & Ítalo \\\\\n",
       "\t Ítalo  & Ítalo \\\\\n",
       "\\end{tabular}\n"
      ],
      "text/markdown": [
       "\n",
       "A data.frame: 6 × 2\n",
       "\n",
       "| X1 &lt;fct&gt; | X2 &lt;fct&gt; |\n",
       "|---|---|\n",
       "| Cloves | Cloves |\n",
       "| Cloves | Ivan   |\n",
       "| Cloves | Ítalo  |\n",
       "| Ivan   | Ivan   |\n",
       "| Ivan   | Ítalo  |\n",
       "| Ítalo  | Ítalo  |\n",
       "\n"
      ],
      "text/plain": [
       "  X1     X2    \n",
       "1 Cloves Cloves\n",
       "2 Cloves Ivan  \n",
       "3 Cloves Ítalo \n",
       "4 Ivan   Ivan  \n",
       "5 Ivan   Ítalo \n",
       "6 Ítalo  Ítalo "
      ]
     },
     "metadata": {},
     "output_type": "display_data"
    }
   ],
   "source": [
    "# preciso sortear 2 brindes para uma lista de \n",
    "# nomes contendo 3 pessoas (Cloves, Ivan e Ítalo).\n",
    "# Uso um software para escolher de forma aleatória\n",
    "# os 2 nomes da lista.\n",
    "\n",
    "# esses seriam os possíveis sorteados\n",
    "urnsamples(c(\"Cloves\", \"Ivan\", \"Ítalo\"), size = 2, replace = TRUE, ordered = FALSE)"
   ]
  }
 ],
 "metadata": {
  "kernelspec": {
   "display_name": "R",
   "language": "R",
   "name": "ir"
  },
  "language_info": {
   "codemirror_mode": "r",
   "file_extension": ".r",
   "mimetype": "text/x-r-source",
   "name": "R",
   "pygments_lexer": "r",
   "version": "3.4.4"
  }
 },
 "nbformat": 4,
 "nbformat_minor": 4
}
