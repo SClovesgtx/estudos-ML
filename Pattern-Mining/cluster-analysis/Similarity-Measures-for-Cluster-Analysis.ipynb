{
 "cells": [
  {
   "cell_type": "markdown",
   "metadata": {},
   "source": [
    "![](imgs/11.png)\n",
    "![](imgs/12.png)\n",
    "![](imgs/13.png)\n",
    "![](imgs/14.png)"
   ]
  },
  {
   "cell_type": "markdown",
   "metadata": {},
   "source": [
    "# Distance on Numeric Data Minkowski Distance\n",
    "\n",
    "![](imgs/15.png)\n",
    "![](imgs/16.png)\n",
    "![](imgs/17.png)\n",
    "![](imgs/18.png)\n",
    "![](imgs/19.png)\n",
    "![](imgs/20.png)"
   ]
  },
  {
   "cell_type": "markdown",
   "metadata": {},
   "source": [
    "# Proximity Measure for Symetric vs Asymmetric Binary Variables\n",
    "\n",
    "![](imgs/21.png)\n",
    "![](imgs/22.png)"
   ]
  },
  {
   "cell_type": "markdown",
   "metadata": {},
   "source": [
    "# Distance between Categorical Attributes Ordinal Attributes and Mixed Types\n",
    "\n",
    "![](imgs/23.png)\n",
    "![](imgs/24.png)\n",
    "![](imgs/25.png)\n",
    "![](imgs/26.png)"
   ]
  },
  {
   "cell_type": "code",
   "execution_count": null,
   "metadata": {},
   "outputs": [],
   "source": []
  }
 ],
 "metadata": {
  "kernelspec": {
   "display_name": "Python 3",
   "language": "python",
   "name": "python3"
  },
  "language_info": {
   "codemirror_mode": {
    "name": "ipython",
    "version": 3
   },
   "file_extension": ".py",
   "mimetype": "text/x-python",
   "name": "python",
   "nbconvert_exporter": "python",
   "pygments_lexer": "ipython3",
   "version": "3.6.9"
  }
 },
 "nbformat": 4,
 "nbformat_minor": 4
}
