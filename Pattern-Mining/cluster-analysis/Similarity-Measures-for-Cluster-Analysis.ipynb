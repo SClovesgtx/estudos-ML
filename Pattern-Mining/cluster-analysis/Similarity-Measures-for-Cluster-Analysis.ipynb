{
 "cells": [
  {
   "cell_type": "markdown",
   "metadata": {},
   "source": [
    "![](imgs/11.png)\n",
    "![](imgs/12.png)\n",
    "![](imgs/13.png)\n",
    "![](imgs/14.png)"
   ]
  },
  {
   "cell_type": "markdown",
   "metadata": {},
   "source": [
    "# Distance on Numeric Data Minkowski Distance\n",
    "\n",
    "![](imgs/15.png)\n",
    "![](imgs/16.png)"
   ]
  },
  {
   "cell_type": "markdown",
   "metadata": {},
   "source": [
    "![](imgs/17.png)"
   ]
  },
  {
   "cell_type": "markdown",
   "metadata": {},
   "source": [
    "![](imgs/18.png)"
   ]
  },
  {
   "cell_type": "markdown",
   "metadata": {},
   "source": [
    "![](imgs/19.png)"
   ]
  },
  {
   "cell_type": "code",
   "execution_count": 3,
   "metadata": {},
   "outputs": [
    {
     "data": {
      "text/plain": [
       "4.6"
      ]
     },
     "execution_count": 3,
     "metadata": {},
     "output_type": "execute_result"
    }
   ],
   "source": [
    "def manhattan_distance(v1, v2):\n",
    "    d = 0\n",
    "    for i, j in zip(v1, v2):\n",
    "        d += abs(i - j)\n",
    "    return d\n",
    "\n",
    "a = (4.9, 3, 1.4, 0.2)\n",
    "b = (5.6, 2.5, 3.9, 1.1)\n",
    "manhattan_distance(a, b)"
   ]
  },
  {
   "cell_type": "markdown",
   "metadata": {},
   "source": [
    "![](imgs/20.png)"
   ]
  },
  {
   "cell_type": "markdown",
   "metadata": {},
   "source": [
    "# Proximity Measure for Symetric vs Asymmetric Binary Variables\n",
    "\n",
    "![](imgs/21.png)\n",
    "![](imgs/22.png)"
   ]
  },
  {
   "cell_type": "code",
   "execution_count": 17,
   "metadata": {},
   "outputs": [
    {
     "data": {
      "text/plain": [
       "0.42857142857142855"
      ]
     },
     "execution_count": 17,
     "metadata": {},
     "output_type": "execute_result"
    }
   ],
   "source": [
    "q = 3\n",
    "r = 3\n",
    "s = 1\n",
    "t = 3\n",
    "c = q/((q+r)+(q+s)-q)\n",
    "c"
   ]
  },
  {
   "cell_type": "code",
   "execution_count": 7,
   "metadata": {},
   "outputs": [
    {
     "data": {
      "text/plain": [
       "7"
      ]
     },
     "execution_count": 7,
     "metadata": {},
     "output_type": "execute_result"
    }
   ],
   "source": [
    "((q+r)+(q+s)-q)"
   ]
  },
  {
   "cell_type": "code",
   "execution_count": 18,
   "metadata": {},
   "outputs": [
    {
     "data": {
      "text/plain": [
       "4"
      ]
     },
     "execution_count": 18,
     "metadata": {},
     "output_type": "execute_result"
    }
   ],
   "source": [
    "r + s"
   ]
  },
  {
   "cell_type": "code",
   "execution_count": 28,
   "metadata": {},
   "outputs": [
    {
     "data": {
      "text/plain": [
       "7"
      ]
     },
     "execution_count": 28,
     "metadata": {},
     "output_type": "execute_result"
    }
   ],
   "source": [
    "q + r + s"
   ]
  },
  {
   "cell_type": "markdown",
   "metadata": {},
   "source": [
    "# Distance between Categorical Attributes Ordinal Attributes and Mixed Types\n",
    "\n",
    "![](imgs/23.png)\n",
    "![](imgs/24.png)\n",
    "![](imgs/25.png)\n",
    "![](imgs/26.png)\n",
    "![](imgs/27.png)\n",
    "![](imgs/28.png)\n",
    "![](imgs/29.png)\n",
    "![](imgs/30.png)\n",
    "![](imgs/31.png)\n",
    "![](imgs/32.png)\n",
    "![](imgs/33.png)"
   ]
  },
  {
   "cell_type": "code",
   "execution_count": 10,
   "metadata": {},
   "outputs": [],
   "source": [
    "from scipy import spatial\n",
    "\n",
    "def cosine_similarity(v1, v2):\n",
    "    result = 1 - spatial.distance.cosine(v1, v2)\n",
    "    print(\"similarity:\", v1, v2, result)"
   ]
  },
  {
   "cell_type": "code",
   "execution_count": 29,
   "metadata": {},
   "outputs": [
    {
     "name": "stdout",
     "output_type": "stream",
     "text": [
      "similarity: [0.8, 0.6] [32, 24] 1.0\n",
      "similarity: [0.8, 0.6] [0.8, 0.7] 0.9971641204866131\n",
      "similarity: [0.8, 0.6] [6, 8] 0.9600000000000002\n",
      "similarity: [0.8, 0.6] [-0.8, -0.6] -1.0\n"
     ]
    }
   ],
   "source": [
    "\n",
    "v1 = [0.8, 0.6]\n",
    "#l_v2  = [[-0.8, -0.6], [0.8, -0.6], [16, 12], [6,8]]\n",
    "l_v2  = [[32, 24], [0.8, 0.7], [6, 8], [-0.8, -0.6]]\n",
    "for v2 in l_v2:\n",
    "    cosine_similarity(v1, v2)"
   ]
  },
  {
   "cell_type": "code",
   "execution_count": 13,
   "metadata": {},
   "outputs": [
    {
     "name": "stdout",
     "output_type": "stream",
     "text": [
      "similarity: [0, 0, 1, 1, 1, 1, 0, 1, 1] [1, 1, 1, 0, 0, 1, 1, 1, 1] 0.6172133998483676\n"
     ]
    }
   ],
   "source": [
    "from nltk.tokenize import word_tokenize \n",
    "\n",
    "X =\"language is the source of misunderstandings\"\n",
    "Y =\"language is the soul of a nation\"\n",
    "X_list = word_tokenize(X)  \n",
    "Y_list = word_tokenize(Y) \n",
    "\n",
    "l1 =[];l2 =[] \n",
    "\n",
    "X_set = set(X_list)#{w for w in X_list if not w in sw}  \n",
    "Y_set = set(Y_list)#{w for w in Y_list if not w in sw} \n",
    "\n",
    "# form a set containing keywords of both strings  \n",
    "rvector = X_set.union(Y_set)  \n",
    "for w in rvector: \n",
    "    if w in X_set: l1.append(1) # create a vector \n",
    "    else: l1.append(0) \n",
    "    if w in Y_set: l2.append(1) \n",
    "    else: l2.append(0) \n",
    "c = 0\n",
    "  \n",
    "# cosine formula  \n",
    "# for i in range(len(rvector)): \n",
    "#         c+= l1[i]*l2[i] \n",
    "# cosine = c / float((sum(l1)*sum(l2))**0.5) \n",
    "# print(\"similarity: \", cosine) \n",
    "cosine_similarity(l1, l2)"
   ]
  },
  {
   "cell_type": "code",
   "execution_count": 30,
   "metadata": {},
   "outputs": [
    {
     "name": "stdout",
     "output_type": "stream",
     "text": [
      "[[1.         0.47911348]\n",
      " [0.47911348 1.        ]]\n"
     ]
    }
   ],
   "source": [
    "import numpy \n",
    "\n",
    "# a = [6.9, 6.7, 6.9, 5.8, 6.8]\n",
    "# b = [3.1, 3.1, 3.1, 2.7, 3.2]\n",
    "\n",
    "a = [5.1, 4.9, 4.7, 4.6, 5]\n",
    "b = [3.5, 3, 3.2, 3.1, 5.4]\n",
    "\n",
    "print(numpy.corrcoef(a,b))"
   ]
  },
  {
   "cell_type": "code",
   "execution_count": 23,
   "metadata": {},
   "outputs": [
    {
     "name": "stdout",
     "output_type": "stream",
     "text": [
      "[[1.         0.88236858]\n",
      " [0.88236858 1.        ]]\n"
     ]
    }
   ],
   "source": [
    "a = [7, 6.4, 6.9, 5.5, 6.5]\n",
    "b = [3.2, 3.2, 3.1, 2.3, 2.8]\n",
    "\n",
    "print(numpy.corrcoef(a,b))"
   ]
  },
  {
   "cell_type": "code",
   "execution_count": 31,
   "metadata": {},
   "outputs": [
    {
     "name": "stdout",
     "output_type": "stream",
     "text": [
      "(0.4791134760411675, 0.41419030450062366)\n"
     ]
    }
   ],
   "source": [
    "from scipy.stats.stats import pearsonr   \n",
    "\n",
    "print(pearsonr(a,b))"
   ]
  },
  {
   "cell_type": "code",
   "execution_count": 1,
   "metadata": {},
   "outputs": [
    {
     "data": {
      "text/plain": [
       "2.792848008753788"
      ]
     },
     "execution_count": 1,
     "metadata": {},
     "output_type": "execute_result"
    }
   ],
   "source": [
    "from scipy.spatial import distance\n",
    "\n",
    "a = (4.9, 3, 1.4, 0.2)\n",
    "b = (5.6, 2.5, 3.9, 1.1)\n",
    "dst = distance.euclidean(a, b)\n",
    "dst"
   ]
  },
  {
   "cell_type": "code",
   "execution_count": 2,
   "metadata": {},
   "outputs": [
    {
     "name": "stdout",
     "output_type": "stream",
     "text": [
      "1.0\n",
      "2.8284271247461903\n",
      "2.23606797749979\n",
      "3.0\n"
     ]
    }
   ],
   "source": [
    "for v in [(0,1), (2, -2), (-2, 1), (3, 0)]:\n",
    "    print(distance.euclidean((0,0), v))"
   ]
  },
  {
   "cell_type": "code",
   "execution_count": null,
   "metadata": {},
   "outputs": [],
   "source": []
  }
 ],
 "metadata": {
  "kernelspec": {
   "display_name": "Python 3",
   "language": "python",
   "name": "python3"
  },
  "language_info": {
   "codemirror_mode": {
    "name": "ipython",
    "version": 3
   },
   "file_extension": ".py",
   "mimetype": "text/x-python",
   "name": "python",
   "nbconvert_exporter": "python",
   "pygments_lexer": "ipython3",
   "version": "3.6.9"
  }
 },
 "nbformat": 4,
 "nbformat_minor": 4
}
