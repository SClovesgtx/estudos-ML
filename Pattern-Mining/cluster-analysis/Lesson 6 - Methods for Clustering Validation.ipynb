{
 "cells": [
  {
   "cell_type": "markdown",
   "metadata": {},
   "source": [
    "![](imgs/89.png)\n",
    "![](imgs/90.png)\n",
    "![](imgs/91.png)"
   ]
  },
  {
   "cell_type": "markdown",
   "metadata": {},
   "source": [
    "# External Methods"
   ]
  },
  {
   "cell_type": "markdown",
   "metadata": {},
   "source": [
    "![](imgs/92.png)\n",
    "![](imgs/93.png)\n",
    "![](imgs/94.png)"
   ]
  },
  {
   "cell_type": "code",
   "execution_count": null,
   "metadata": {},
   "outputs": [],
   "source": []
  },
  {
   "cell_type": "markdown",
   "metadata": {},
   "source": [
    "![](imgs/96.png)"
   ]
  },
  {
   "cell_type": "code",
   "execution_count": 3,
   "metadata": {},
   "outputs": [
    {
     "data": {
      "text/plain": [
       "0.5"
      ]
     },
     "execution_count": 3,
     "metadata": {},
     "output_type": "execute_result"
    }
   ],
   "source": [
    "# maximum matching\n",
    "(40+30+30)/200"
   ]
  },
  {
   "cell_type": "code",
   "execution_count": 4,
   "metadata": {},
   "outputs": [
    {
     "data": {
      "text/plain": [
       "0.55"
      ]
     },
     "execution_count": 4,
     "metadata": {},
     "output_type": "execute_result"
    }
   ],
   "source": [
    "(50+40+20)/200"
   ]
  },
  {
   "cell_type": "code",
   "execution_count": 6,
   "metadata": {},
   "outputs": [
    {
     "data": {
      "text/plain": [
       "0.55"
      ]
     },
     "execution_count": 6,
     "metadata": {},
     "output_type": "execute_result"
    }
   ],
   "source": [
    "(50+20+40)/200"
   ]
  },
  {
   "cell_type": "markdown",
   "metadata": {},
   "source": [
    "![](imgs/97.png)"
   ]
  },
  {
   "cell_type": "code",
   "execution_count": null,
   "metadata": {},
   "outputs": [],
   "source": []
  },
  {
   "cell_type": "markdown",
   "metadata": {},
   "source": [
    "![](imgs/98.png)"
   ]
  },
  {
   "cell_type": "code",
   "execution_count": 1,
   "metadata": {},
   "outputs": [
    {
     "data": {
      "text/plain": [
       "0.6"
      ]
     },
     "execution_count": 1,
     "metadata": {},
     "output_type": "execute_result"
    }
   ],
   "source": [
    "# pureza dos clusters https://nlp.stanford.edu/IR-book/html/htmledition/evaluation-of-clustering-1.html#:~:text=Bad%20clusterings%20have%20purity%20values,this%20chapter%20in%20Table%2016.2%20.&text=High%20purity%20is%20easy%20to,document%20gets%20its%20own%20cluster.\n",
    "(40+30+50)/200"
   ]
  },
  {
   "cell_type": "code",
   "execution_count": 17,
   "metadata": {},
   "outputs": [],
   "source": [
    "from sklearn.metrics.cluster import normalized_mutual_info_score\n",
    "from sklearn.metrics import jaccard_score\n",
    "import numpy as np\n",
    "\n",
    "c1 = [int(item.strip().split()[1]) for item in open(\"data/clustering_1.txt\", \"r\").readlines()]\n",
    "c2 = [int(item.strip().split()[1]) for item in open(\"data/clustering_2.txt\", \"r\").readlines()]\n",
    "c3 = [int(item.strip().split()[1]) for item in open(\"data/clustering_3.txt\", \"r\").readlines()]\n",
    "c4 = [int(item.strip().split()[1]) for item in open(\"data/clustering_4.txt\", \"r\").readlines()]\n",
    "c5 = [int(item.strip().split()[1]) for item in open(\"data/clustering_5.txt\", \"r\").readlines()]\n",
    "t = [int(item.strip().split()[1]) for item in open(\"data/partitions.txt\", \"r\").readlines()]"
   ]
  },
  {
   "cell_type": "code",
   "execution_count": 18,
   "metadata": {},
   "outputs": [
    {
     "data": {
      "text/plain": [
       "array([2, 0, 2, 1, 2, 1, 1, 1, 2, 2, 0, 0, 1, 1, 1, 2, 1, 0, 1, 2, 1, 0,\n",
       "       0, 2, 1, 2, 1, 0, 2, 1, 2, 0, 1, 0, 2, 2, 0, 0, 1, 1, 2, 0, 0, 2,\n",
       "       0, 1, 2, 1, 0, 1, 2, 1, 1, 1, 1, 1, 2, 0, 1, 2, 2, 0, 0, 0, 1, 0,\n",
       "       0, 1, 2, 0, 2, 1, 1, 2, 2, 0, 2, 2, 1, 0, 0, 2, 0, 0, 1, 2, 1, 2,\n",
       "       1, 2, 0, 1, 1, 0, 1, 2, 1, 1, 2, 1, 2, 2, 2, 1, 2, 2, 1, 0, 0, 1,\n",
       "       0, 2, 0, 1, 0, 0, 2, 0, 2, 2, 2, 2, 0, 0, 2, 0, 0, 0, 2, 0, 2, 0,\n",
       "       1, 1, 1, 2, 2, 0, 0, 2, 1, 0, 0, 0, 2, 0, 0, 1, 0, 0, 2, 0, 0, 2,\n",
       "       2, 2, 2, 1, 1, 1, 0, 1, 2, 2, 0, 1, 0, 0, 2, 0, 1, 2, 0, 0, 1, 1,\n",
       "       0, 0, 0, 1, 2, 2, 0, 0, 1, 0, 1, 2, 2, 1, 1, 2, 0, 1, 0, 1, 0, 1,\n",
       "       0, 2, 1, 2, 2, 1, 0, 1, 0, 1, 2, 0, 1, 2, 1, 2, 2, 1, 0, 2, 1, 2,\n",
       "       2, 2, 0, 2, 1, 2, 1, 1, 0, 1, 1, 1, 0, 1, 1, 0, 1, 2, 1, 0, 0, 2,\n",
       "       0, 1, 2, 0, 0, 1, 0, 0, 1, 1, 1, 2, 0, 0, 2, 2, 2, 0, 0, 2, 1, 2,\n",
       "       2, 1, 2, 0, 1, 2, 1, 0, 2, 1, 1, 2, 1, 2, 1, 0, 1, 0, 1, 1, 1, 0,\n",
       "       0, 2, 1, 0, 2, 0, 2, 2, 2, 0, 0, 2, 2, 2])"
      ]
     },
     "execution_count": 18,
     "metadata": {},
     "output_type": "execute_result"
    }
   ],
   "source": [
    "np.array(c1)"
   ]
  },
  {
   "cell_type": "code",
   "execution_count": 22,
   "metadata": {},
   "outputs": [
    {
     "data": {
      "text/plain": [
       "array([2, 0, 2, 1, 2, 1, 1, 1, 2, 2, 0, 0, 1, 1, 1, 2, 1, 1, 1, 2, 1, 0,\n",
       "       0, 2, 1, 2, 1, 0, 2, 1, 2, 0, 1, 0, 2, 2, 0, 0, 1, 1, 2, 0, 0, 2,\n",
       "       0, 1, 0, 1, 0, 1, 2, 1, 1, 1, 1, 1, 2, 0, 1, 2, 2, 0, 0, 0, 1, 0,\n",
       "       0, 1, 2, 0, 2, 1, 1, 2, 2, 0, 2, 2, 1, 0, 0, 1, 0, 0, 1, 2, 1, 2,\n",
       "       1, 2, 0, 1, 1, 0, 1, 2, 1, 1, 2, 1, 2, 2, 2, 1, 2, 2, 1, 0, 0, 1,\n",
       "       0, 2, 0, 1, 0, 0, 2, 0, 2, 2, 2, 2, 0, 0, 2, 0, 0, 0, 2, 0, 2, 0,\n",
       "       1, 0, 1, 2, 2, 0, 0, 2, 1, 0, 0, 0, 2, 0, 0, 1, 0, 0, 2, 0, 0, 2,\n",
       "       2, 2, 2, 1, 1, 1, 0, 1, 2, 2, 0, 2, 0, 0, 2, 0, 1, 2, 0, 0, 1, 1,\n",
       "       0, 0, 1, 1, 2, 2, 0, 0, 2, 0, 1, 2, 2, 1, 1, 2, 0, 1, 0, 1, 0, 1,\n",
       "       0, 2, 1, 2, 2, 1, 0, 1, 0, 1, 2, 0, 1, 2, 1, 2, 2, 1, 0, 2, 1, 2,\n",
       "       2, 2, 0, 2, 1, 2, 1, 1, 0, 1, 1, 1, 0, 1, 1, 0, 1, 2, 1, 0, 0, 2,\n",
       "       0, 1, 2, 0, 0, 1, 0, 0, 1, 1, 1, 2, 0, 0, 2, 2, 2, 0, 0, 2, 1, 2,\n",
       "       2, 1, 2, 0, 1, 2, 1, 0, 2, 1, 1, 2, 1, 2, 1, 0, 1, 0, 1, 1, 1, 0,\n",
       "       0, 2, 1, 0, 2, 0, 2, 2, 2, 0, 0, 2, 2, 2])"
      ]
     },
     "execution_count": 22,
     "metadata": {},
     "output_type": "execute_result"
    }
   ],
   "source": [
    "np.array(t)"
   ]
  },
  {
   "cell_type": "code",
   "execution_count": 27,
   "metadata": {},
   "outputs": [
    {
     "data": {
      "text/plain": [
       "array([0, 1, 1])"
      ]
     },
     "execution_count": 27,
     "metadata": {},
     "output_type": "execute_result"
    }
   ],
   "source": [
    "y_true = np.array([[0, 1, 1],\n",
    "...                    [1, 1, 0]])\n",
    "y_true[0]"
   ]
  },
  {
   "cell_type": "code",
   "execution_count": 36,
   "metadata": {},
   "outputs": [],
   "source": [
    "NMI = []\n",
    "JSCORE = []\n",
    "for c in [c1, c2, c3, c4, c5]:\n",
    "    nmi_score = normalized_mutual_info_score(t, c, average_method=\"arithmetic\")\n",
    "    j_score = jaccard_score(np.array(t), np.array(c), average=\"micro\")\n",
    "    NMI.append(nmi_score)\n",
    "    JSCORE.append(j_score)"
   ]
  },
  {
   "cell_type": "code",
   "execution_count": 39,
   "metadata": {},
   "outputs": [
    {
     "data": {
      "text/plain": [
       "[0.8896247665800587,\n",
       " 0.6456368113477217,\n",
       " 0.391543746381692,\n",
       " 0.764277135869685,\n",
       " 0.7336804366512119]"
      ]
     },
     "execution_count": 39,
     "metadata": {},
     "output_type": "execute_result"
    }
   ],
   "source": [
    "NMI"
   ]
  },
  {
   "cell_type": "code",
   "execution_count": 40,
   "metadata": {},
   "outputs": [
    {
     "data": {
      "text/plain": [
       "[0.9543973941368078,\n",
       " 0.8126888217522659,\n",
       " 0.6438356164383562,\n",
       " 0.8348623853211009,\n",
       " 0.5]"
      ]
     },
     "execution_count": 40,
     "metadata": {},
     "output_type": "execute_result"
    }
   ],
   "source": [
    "JSCORE"
   ]
  },
  {
   "cell_type": "code",
   "execution_count": 41,
   "metadata": {},
   "outputs": [],
   "source": [
    "f = open(\"data/scores.txt\", \"w\")\n",
    "for nmi, j in zip(NMI, JSCORE):\n",
    "    f.write(\"%s %s\\n\"%(nmi, j))\n",
    "f.close()"
   ]
  },
  {
   "cell_type": "markdown",
   "metadata": {},
   "source": [
    "![](imgs/99.png)"
   ]
  },
  {
   "cell_type": "code",
   "execution_count": null,
   "metadata": {},
   "outputs": [],
   "source": []
  },
  {
   "cell_type": "markdown",
   "metadata": {},
   "source": [
    "![](imgs/100.png)"
   ]
  },
  {
   "cell_type": "code",
   "execution_count": null,
   "metadata": {},
   "outputs": [],
   "source": []
  },
  {
   "cell_type": "markdown",
   "metadata": {},
   "source": [
    "![](imgs/101.png)"
   ]
  },
  {
   "cell_type": "code",
   "execution_count": null,
   "metadata": {},
   "outputs": [],
   "source": []
  },
  {
   "cell_type": "markdown",
   "metadata": {},
   "source": [
    "![](imgs/102.png)"
   ]
  },
  {
   "cell_type": "code",
   "execution_count": null,
   "metadata": {},
   "outputs": [],
   "source": []
  },
  {
   "cell_type": "markdown",
   "metadata": {},
   "source": [
    "![](imgs/103.png)"
   ]
  },
  {
   "cell_type": "code",
   "execution_count": null,
   "metadata": {},
   "outputs": [],
   "source": []
  },
  {
   "cell_type": "markdown",
   "metadata": {},
   "source": [
    "![](imgs/104.png)"
   ]
  },
  {
   "cell_type": "code",
   "execution_count": null,
   "metadata": {},
   "outputs": [],
   "source": []
  },
  {
   "cell_type": "markdown",
   "metadata": {},
   "source": [
    "![](imgs/105.png)"
   ]
  },
  {
   "cell_type": "code",
   "execution_count": null,
   "metadata": {},
   "outputs": [],
   "source": []
  },
  {
   "cell_type": "markdown",
   "metadata": {},
   "source": [
    "![](imgs/106.png)"
   ]
  },
  {
   "cell_type": "code",
   "execution_count": null,
   "metadata": {},
   "outputs": [],
   "source": []
  },
  {
   "cell_type": "markdown",
   "metadata": {},
   "source": [
    "![](imgs/107.png)"
   ]
  },
  {
   "cell_type": "code",
   "execution_count": null,
   "metadata": {},
   "outputs": [],
   "source": []
  }
 ],
 "metadata": {
  "kernelspec": {
   "display_name": "Python 3",
   "language": "python",
   "name": "python3"
  },
  "language_info": {
   "codemirror_mode": {
    "name": "ipython",
    "version": 3
   },
   "file_extension": ".py",
   "mimetype": "text/x-python",
   "name": "python",
   "nbconvert_exporter": "python",
   "pygments_lexer": "ipython3",
   "version": "3.6.9"
  }
 },
 "nbformat": 4,
 "nbformat_minor": 4
}
