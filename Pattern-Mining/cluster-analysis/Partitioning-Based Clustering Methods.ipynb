{
 "cells": [
  {
   "cell_type": "markdown",
   "metadata": {},
   "source": [
    "![](imgs/34.png)"
   ]
  },
  {
   "cell_type": "code",
   "execution_count": null,
   "metadata": {},
   "outputs": [],
   "source": []
  },
  {
   "cell_type": "markdown",
   "metadata": {},
   "source": [
    "![](imgs/35.png)"
   ]
  },
  {
   "cell_type": "code",
   "execution_count": null,
   "metadata": {},
   "outputs": [],
   "source": []
  },
  {
   "cell_type": "markdown",
   "metadata": {},
   "source": [
    "![](imgs/36.png)"
   ]
  },
  {
   "cell_type": "code",
   "execution_count": null,
   "metadata": {},
   "outputs": [],
   "source": []
  },
  {
   "cell_type": "markdown",
   "metadata": {},
   "source": [
    "![](imgs/37.png)"
   ]
  },
  {
   "cell_type": "code",
   "execution_count": null,
   "metadata": {},
   "outputs": [],
   "source": []
  },
  {
   "cell_type": "markdown",
   "metadata": {},
   "source": [
    "![](imgs/38.png)"
   ]
  },
  {
   "cell_type": "code",
   "execution_count": null,
   "metadata": {},
   "outputs": [],
   "source": []
  },
  {
   "cell_type": "markdown",
   "metadata": {},
   "source": [
    "![](imgs/39.png)"
   ]
  },
  {
   "cell_type": "code",
   "execution_count": null,
   "metadata": {},
   "outputs": [],
   "source": []
  },
  {
   "cell_type": "markdown",
   "metadata": {},
   "source": [
    "![](imgs/40.png)"
   ]
  },
  {
   "cell_type": "code",
   "execution_count": null,
   "metadata": {},
   "outputs": [],
   "source": []
  },
  {
   "cell_type": "markdown",
   "metadata": {},
   "source": [
    "![](imgs/41.png)"
   ]
  },
  {
   "cell_type": "code",
   "execution_count": 2,
   "metadata": {},
   "outputs": [
    {
     "data": {
      "text/plain": [
       "array([-2.,  1.])"
      ]
     },
     "execution_count": 2,
     "metadata": {},
     "output_type": "execute_result"
    }
   ],
   "source": [
    "import numpy as np\n",
    "\n",
    "a = np.array([[-1, 3], [-3, 1], [-2, 1]])\n",
    "\n",
    "np.median(a, axis=0)"
   ]
  },
  {
   "cell_type": "markdown",
   "metadata": {},
   "source": [
    "![](imgs/42.png)"
   ]
  },
  {
   "cell_type": "code",
   "execution_count": null,
   "metadata": {},
   "outputs": [],
   "source": []
  },
  {
   "cell_type": "markdown",
   "metadata": {},
   "source": [
    "![](imgs/43.png)"
   ]
  },
  {
   "cell_type": "code",
   "execution_count": null,
   "metadata": {},
   "outputs": [],
   "source": []
  },
  {
   "cell_type": "markdown",
   "metadata": {},
   "source": [
    "![](imgs/44.png)"
   ]
  },
  {
   "cell_type": "code",
   "execution_count": null,
   "metadata": {},
   "outputs": [],
   "source": []
  },
  {
   "cell_type": "markdown",
   "metadata": {},
   "source": [
    "![](imgs/45.png)"
   ]
  },
  {
   "cell_type": "code",
   "execution_count": null,
   "metadata": {},
   "outputs": [],
   "source": []
  },
  {
   "cell_type": "markdown",
   "metadata": {},
   "source": [
    "![](imgs/46.png)"
   ]
  },
  {
   "cell_type": "code",
   "execution_count": null,
   "metadata": {},
   "outputs": [],
   "source": []
  },
  {
   "cell_type": "markdown",
   "metadata": {},
   "source": [
    "# EP\n",
    "\n",
    "![](imgs/47.png)\n",
    "![](imgs/48.png)\n",
    "![](imgs/49.png)"
   ]
  },
  {
   "cell_type": "markdown",
   "metadata": {},
   "source": [
    "[places.txt](https://d18ky98rnyall9.cloudfront.net/_65d999cccd24abb4ce496639c708f4fe_places.txt?Expires=1601596800&Signature=WpAwRMzyBjkYYWuyFhQrLMHRBrYSzqW6FgmjM25gmpT56p2keNnulchzoAbtmtQkJteLJIKNW773NiBRQX6ds1By~w-HEM0Ie4yfPp3u8ej6maoPwCMf79GQmJGqkeyzg3-jAH83ul2WUU96SR8uA3n4mgfseJLLF5Yrh6LFnOA_&Key-Pair-Id=APKAJLTNE6QMUY6HBC5A)"
   ]
  },
  {
   "cell_type": "code",
   "execution_count": 7,
   "metadata": {},
   "outputs": [
    {
     "data": {
      "text/plain": [
       "[[-112.0707922, 33.4516246],\n",
       " [-112.0655423, 33.4492979],\n",
       " [-112.0739312, 33.4564905],\n",
       " [-112.0748658, 33.4701155],\n",
       " [-80.5256905, 43.4770992]]"
      ]
     },
     "execution_count": 7,
     "metadata": {},
     "output_type": "execute_result"
    }
   ],
   "source": [
    "def transform(place):\n",
    "    place = place.strip().split(\",\")\n",
    "    long = float(place[0])\n",
    "    lat = float(place[1])\n",
    "    return [long, lat]\n",
    "\n",
    "places = [transform(place) for place in open(\"places.txt\", \"r\").readlines()]\n",
    "places[:5]"
   ]
  },
  {
   "cell_type": "code",
   "execution_count": 9,
   "metadata": {},
   "outputs": [
    {
     "data": {
      "text/plain": [
       "array([0, 0, 0, 0, 1, 1, 2, 0, 0, 2, 0, 2, 1, 0, 2, 2, 2, 0, 2, 1, 1, 1,\n",
       "       1, 2, 0, 1, 0, 1, 0, 0, 1, 2, 0, 0, 0, 2, 1, 0, 1, 2, 2, 2, 2, 2,\n",
       "       2, 1, 0, 2, 0, 0, 1, 2, 0, 2, 1, 2, 0, 2, 1, 2, 0, 1, 2, 0, 1, 2,\n",
       "       2, 0, 1, 2, 1, 0, 2, 1, 0, 0, 0, 2, 1, 0, 0, 2, 0, 1, 0, 0, 1, 0,\n",
       "       1, 0, 1, 1, 0, 1, 1, 1, 2, 2, 0, 0, 0, 1, 0, 0, 2, 2, 0, 1, 0, 0,\n",
       "       1, 2, 0, 1, 0, 0, 1, 0, 1, 1, 2, 2, 0, 1, 2, 1, 2, 1, 2, 1, 2, 1,\n",
       "       2, 0, 0, 1, 1, 0, 0, 1, 2, 2, 0, 1, 2, 2, 2, 0, 2, 2, 1, 2, 2, 1,\n",
       "       1, 1, 1, 1, 2, 2, 1, 0, 1, 0, 2, 1, 1, 1, 1, 1, 1, 0, 0, 2, 2, 0,\n",
       "       1, 2, 2, 1, 0, 1, 2, 2, 1, 2, 2, 1, 0, 1, 2, 2, 0, 0, 0, 2, 0, 0,\n",
       "       2, 0, 1, 0, 2, 0, 1, 2, 0, 1, 2, 2, 1, 2, 2, 0, 1, 1, 0, 1, 0, 1,\n",
       "       0, 1, 1, 1, 2, 2, 2, 0, 2, 0, 0, 2, 2, 1, 1, 2, 0, 2, 0, 2, 0, 0,\n",
       "       2, 2, 2, 2, 2, 2, 2, 0, 2, 2, 1, 1, 1, 1, 2, 0, 2, 0, 1, 0, 2, 1,\n",
       "       1, 0, 1, 0, 1, 0, 1, 2, 0, 2, 1, 1, 0, 0, 1, 1, 2, 2, 2, 2, 1, 1,\n",
       "       2, 1, 1, 0, 1, 0, 2, 0, 1, 0, 0, 0, 1, 0], dtype=int32)"
      ]
     },
     "execution_count": 9,
     "metadata": {},
     "output_type": "execute_result"
    }
   ],
   "source": [
    "from sklearn.cluster import KMeans\n",
    "import numpy as np\n",
    "\n",
    "X = np.array(places)\n",
    "\n",
    "kmeans = KMeans(n_clusters=3, random_state=0).fit(X)\n",
    "kmeans.labels_"
   ]
  },
  {
   "cell_type": "code",
   "execution_count": 11,
   "metadata": {},
   "outputs": [],
   "source": [
    "n = 0\n",
    "with open(\"clusters.txt\", \"w\") as clusters:\n",
    "    for label in kmeans.labels_:\n",
    "        clusters.write(\"%d %d\\n\"%(n, label))\n",
    "        n+=1\n",
    "clusters.close()"
   ]
  },
  {
   "cell_type": "code",
   "execution_count": null,
   "metadata": {},
   "outputs": [],
   "source": []
  }
 ],
 "metadata": {
  "kernelspec": {
   "display_name": "Python 3",
   "language": "python",
   "name": "python3"
  },
  "language_info": {
   "codemirror_mode": {
    "name": "ipython",
    "version": 3
   },
   "file_extension": ".py",
   "mimetype": "text/x-python",
   "name": "python",
   "nbconvert_exporter": "python",
   "pygments_lexer": "ipython3",
   "version": "3.6.9"
  }
 },
 "nbformat": 4,
 "nbformat_minor": 4
}
