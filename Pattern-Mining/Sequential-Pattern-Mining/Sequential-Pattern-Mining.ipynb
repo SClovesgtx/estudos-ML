{
 "cells": [
  {
   "cell_type": "markdown",
   "metadata": {},
   "source": [
    "# Sequential Pattern and Sequential Pattern Mining\n",
    "\n",
    "![](imgs/1.png)\n",
    "# -----------------\n",
    "![](imgs/2.png)\n",
    "# -----------------\n",
    "![](imgs/3.png)"
   ]
  },
  {
   "cell_type": "markdown",
   "metadata": {},
   "source": [
    "# Generalized Sequential Patterns (GSP): Apriori-Based Sequential Pattern Mining\n",
    "\n",
    "![](imgs/4.png)\n",
    "# -----------------\n",
    "![](imgs/5.png)"
   ]
  },
  {
   "cell_type": "markdown",
   "metadata": {},
   "source": [
    "# SPADE—Sequential Pattern Mining in Vertical Data Format\n",
    "\n",
    "![](imgs/6.png)"
   ]
  },
  {
   "cell_type": "markdown",
   "metadata": {},
   "source": [
    "# PrefixSpan—Sequential Pattern Mining by Pattern-Growth\n",
    "\n",
    "![](imgs/7.png)\n",
    "# -----------------\n",
    "![](imgs/8.png)\n",
    "# -----------------\n",
    "![](imgs/9.png)\n",
    "# -----------------\n",
    "![](imgs/10.png)"
   ]
  },
  {
   "cell_type": "markdown",
   "metadata": {},
   "source": [
    "# CloSpan—Mining Closed Sequential Patterns\n",
    "\n",
    "![](imgs/11.png)"
   ]
  }
 ],
 "metadata": {
  "kernelspec": {
   "display_name": "Python 3",
   "language": "python",
   "name": "python3"
  },
  "language_info": {
   "codemirror_mode": {
    "name": "ipython",
    "version": 3
   },
   "file_extension": ".py",
   "mimetype": "text/x-python",
   "name": "python",
   "nbconvert_exporter": "python",
   "pygments_lexer": "ipython3",
   "version": "3.6.9"
  }
 },
 "nbformat": 4,
 "nbformat_minor": 4
}
