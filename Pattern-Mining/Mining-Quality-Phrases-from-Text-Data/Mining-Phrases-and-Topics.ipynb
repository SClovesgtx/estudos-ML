{
 "cells": [
  {
   "cell_type": "markdown",
   "metadata": {},
   "source": [
    "![](imgs/1.png)\n",
    "![](imgs/2.png)\n",
    "![](imgs/3.png)\n",
    "![](imgs/4.png)\n",
    "![](imgs/5.png)\n",
    "![](imgs/6.png)\n",
    "![](imgs/7.png)\n",
    "![](imgs/8.png)\n",
    "![](imgs/9.png)\n",
    "![](imgs/10.png)\n",
    "![](imgs/11.png)\n",
    "![](imgs/12.png)\n",
    "![](imgs/13.png)"
   ]
  },
  {
   "cell_type": "markdown",
   "metadata": {},
   "source": [
    "# EP\n",
    "\n",
    "In this programming assignment, you are required to implement a contiguous sequential pattern mining algorithm and apply it on text data to mine potential phrase candidates."
   ]
  },
  {
   "cell_type": "markdown",
   "metadata": {},
   "source": [
    "Irei usar uma implementação do algoritmo PrefixSpan que pode ser vista [aqui](https://github.com/chuanconggao/PrefixSpan-py) "
   ]
  }
 ],
 "metadata": {
  "kernelspec": {
   "display_name": "Python 3",
   "language": "python",
   "name": "python3"
  },
  "language_info": {
   "codemirror_mode": {
    "name": "ipython",
    "version": 3
   },
   "file_extension": ".py",
   "mimetype": "text/x-python",
   "name": "python",
   "nbconvert_exporter": "python",
   "pygments_lexer": "ipython3",
   "version": "3.6.9"
  }
 },
 "nbformat": 4,
 "nbformat_minor": 4
}
