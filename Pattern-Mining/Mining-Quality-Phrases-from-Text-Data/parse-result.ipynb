{
 "cells": [
  {
   "cell_type": "code",
   "execution_count": 1,
   "metadata": {},
   "outputs": [
    {
     "data": {
      "text/plain": [
       "['\"Freq_Phrases\"\\t\"Support\"\\n',\n",
       " '\"100\"\\t\"121\"\\n',\n",
       " '\"able\"\\t\"402\"\\n',\n",
       " '\"absolutely\"\\t\"392\"\\n',\n",
       " '\"across\"\\t\"261\"\\n']"
      ]
     },
     "execution_count": 1,
     "metadata": {},
     "output_type": "execute_result"
    }
   ],
   "source": [
    "file = open(\"result.txt\", \"r\")\n",
    "result = file.readlines()\n",
    "result[:5]"
   ]
  },
  {
   "cell_type": "code",
   "execution_count": 2,
   "metadata": {},
   "outputs": [],
   "source": [
    "del result[0]"
   ]
  },
  {
   "cell_type": "code",
   "execution_count": 3,
   "metadata": {},
   "outputs": [
    {
     "data": {
      "text/plain": [
       "['\"100\"\\t\"121\"\\n', '\"able\"\\t\"402\"\\n', '\"absolutely\"\\t\"392\"\\n']"
      ]
     },
     "execution_count": 3,
     "metadata": {},
     "output_type": "execute_result"
    }
   ],
   "source": [
    "result[:3]"
   ]
  },
  {
   "cell_type": "code",
   "execution_count": 8,
   "metadata": {},
   "outputs": [
    {
     "data": {
      "text/plain": [
       "'100'"
      ]
     },
     "execution_count": 8,
     "metadata": {},
     "output_type": "execute_result"
    }
   ],
   "source": [
    "\";\".join('\"100\"\\t\"121\"\\n'.strip().replace('\"', \"\").split(\"\\t\")[:-1])"
   ]
  },
  {
   "cell_type": "code",
   "execution_count": 17,
   "metadata": {},
   "outputs": [],
   "source": [
    "clean_reaults = []\n",
    "for item in result:\n",
    "    clean_item = item.strip().replace('\"', \"\").split(\"\\t\")\n",
    "    if int(clean_item[-1]) >= 100:\n",
    "        finnily = clean_item[-1] + \":\" + \";\".join(clean_item[:-1][0].split())\n",
    "        clean_reaults.append(finnily)"
   ]
  },
  {
   "cell_type": "code",
   "execution_count": 21,
   "metadata": {},
   "outputs": [
    {
     "data": {
      "text/plain": [
       "['151:great;food',\n",
       " '273:great;place',\n",
       " '153:great;service',\n",
       " '120:grocery;store',\n",
       " '163:happy;hour',\n",
       " '215:highly;recommend',\n",
       " '125:hot;dog',\n",
       " '220:ice;cream',\n",
       " '139:last;night',\n",
       " '155:last;time',\n",
       " '125:long;time',\n",
       " '175:look;like',\n",
       " '113:looked;like',\n",
       " '178:love;place',\n",
       " '211:make;sure',\n",
       " '162:much;better',\n",
       " '227:next;time',\n",
       " '186:one;best',\n",
       " '135:one;favorite',\n",
       " '133:parking;lot',\n",
       " '100:pasta;trio',\n",
       " '131:place;get',\n",
       " '104:place;like',\n",
       " '355:pretty;good',\n",
       " '141:pretty;much',\n",
       " '274:really;good',\n",
       " '111:really;nice',\n",
       " '108:reasonable;price',\n",
       " '103:reasonably;priced',\n",
       " '110:saturday;night',\n",
       " '128:service;good',\n",
       " '135:service;great',\n",
       " '154:staff;friendly',\n",
       " '153:strip;district',\n",
       " '103:tasted;like',\n",
       " '128:wait;staff',\n",
       " '110:whole;food',\n",
       " '130:would;definitely',\n",
       " '133:would;recommend',\n",
       " '170:year;ago']"
      ]
     },
     "execution_count": 21,
     "metadata": {},
     "output_type": "execute_result"
    }
   ],
   "source": [
    "clean_reaults[1000:]"
   ]
  },
  {
   "cell_type": "code",
   "execution_count": 22,
   "metadata": {},
   "outputs": [],
   "source": [
    "f = open(\"patterns.txt\", \"w\")\n",
    "for item in clean_reaults:\n",
    "    f.write(item+\"\\n\")\n",
    "f.close()"
   ]
  },
  {
   "cell_type": "code",
   "execution_count": null,
   "metadata": {},
   "outputs": [],
   "source": []
  }
 ],
 "metadata": {
  "kernelspec": {
   "display_name": "Python 3",
   "language": "python",
   "name": "python3"
  },
  "language_info": {
   "codemirror_mode": {
    "name": "ipython",
    "version": 3
   },
   "file_extension": ".py",
   "mimetype": "text/x-python",
   "name": "python",
   "nbconvert_exporter": "python",
   "pygments_lexer": "ipython3",
   "version": "3.6.9"
  }
 },
 "nbformat": 4,
 "nbformat_minor": 4
}
