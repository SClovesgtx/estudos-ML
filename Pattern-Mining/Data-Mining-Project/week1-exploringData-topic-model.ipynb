{
 "cells": [
  {
   "cell_type": "markdown",
   "metadata": {},
   "source": [
    "# Lendo os Dados"
   ]
  },
  {
   "cell_type": "code",
   "execution_count": 1,
   "metadata": {},
   "outputs": [
    {
     "data": {
      "text/plain": [
       "['{\"votes\": {\"funny\": 0, \"useful\": 2, \"cool\": 1}, \"user_id\": \"Xqd0DzHaiyRqVH3WRG7hzg\", \"review_id\": \"15SdjuK7DmYqUAj6rjGowg\", \"stars\": 5, \"date\": \"2007-05-17\", \"text\": \"dr. goldberg offers everything i look for in a general practitioner.  he\\'s nice and easy to talk to without being patronizing; he\\'s always on time in seeing his patients; he\\'s affiliated with a top-notch hospital (nyu) which my parents have explained to me is very important in case something happens and you need surgery; and you can get referrals to see specialists without having to see him first.  really, what more do you need?  i\\'m sitting here trying to think of any complaints i have about him, but i\\'m really drawing a blank.\", \"type\": \"review\", \"business_id\": \"vcNAWiLM4dR7D2nwwJ7nCA\"}\\n',\n",
       " '{\"votes\": {\"funny\": 0, \"useful\": 2, \"cool\": 0}, \"user_id\": \"H1kH6QZV7Le4zqTRNxoZow\", \"review_id\": \"RF6UnRTtG7tWMcrO2GEoAg\", \"stars\": 2, \"date\": \"2010-03-22\", \"text\": \"Unfortunately, the frustration of being Dr. Goldberg\\'s patient is a repeat of the experience I\\'ve had with so many other doctors in NYC -- good doctor, terrible staff.  It seems that his staff simply never answers the phone.  It usually takes 2 hours of repeated calling to get an answer.  Who has time for that or wants to deal with it?  I have run into this problem with many other doctors and I just don\\'t get it.  You have office workers, you have patients with medical needs, why isn\\'t anyone answering the phone?  It\\'s incomprehensible and not work the aggravation.  It\\'s with regret that I feel that I have to give Dr. Goldberg 2 stars.\", \"type\": \"review\", \"business_id\": \"vcNAWiLM4dR7D2nwwJ7nCA\"}\\n',\n",
       " '{\"votes\": {\"funny\": 0, \"useful\": 1, \"cool\": 1}, \"user_id\": \"zvJCcrpm2yOZrxKffwGQLA\", \"review_id\": \"-TsVN230RCkLYKBeLsuz7A\", \"stars\": 4, \"date\": \"2012-02-14\", \"text\": \"Dr. Goldberg has been my doctor for years and I like him.  I\\'ve found his office to be fairly efficient.  Today I actually got to see the doctor a few minutes early!  \\\\n\\\\nHe seems very engaged with his patients and his demeanor is friendly, yet authoritative.    \\\\n\\\\nI\\'m glad to have Dr. Goldberg as my doctor.\", \"type\": \"review\", \"business_id\": \"vcNAWiLM4dR7D2nwwJ7nCA\"}\\n']"
      ]
     },
     "execution_count": 1,
     "metadata": {},
     "output_type": "execute_result"
    }
   ],
   "source": [
    "# yelp_academic_dataset_review.json\n",
    "with open (\"yelp_dataset/yelp_academic_dataset_review.json\", 'r') as f:\n",
    "        reviews = f.readlines()\n",
    "        \n",
    "reviews[:3]"
   ]
  },
  {
   "cell_type": "code",
   "execution_count": 2,
   "metadata": {},
   "outputs": [
    {
     "name": "stdout",
     "output_type": "stream",
     "text": [
      "São 1125458 reviews.\n"
     ]
    }
   ],
   "source": [
    "print(\"São %d reviews.\"%len(reviews))"
   ]
  },
  {
   "cell_type": "code",
   "execution_count": 2,
   "metadata": {},
   "outputs": [],
   "source": [
    "import json\n",
    "\n",
    "reviews = [json.loads(review.strip()) for review in reviews]"
   ]
  },
  {
   "cell_type": "code",
   "execution_count": 3,
   "metadata": {},
   "outputs": [
    {
     "data": {
      "text/plain": [
       "{'votes': {'funny': 0, 'useful': 2, 'cool': 1},\n",
       " 'user_id': 'Xqd0DzHaiyRqVH3WRG7hzg',\n",
       " 'review_id': '15SdjuK7DmYqUAj6rjGowg',\n",
       " 'stars': 5,\n",
       " 'date': '2007-05-17',\n",
       " 'text': \"dr. goldberg offers everything i look for in a general practitioner.  he's nice and easy to talk to without being patronizing; he's always on time in seeing his patients; he's affiliated with a top-notch hospital (nyu) which my parents have explained to me is very important in case something happens and you need surgery; and you can get referrals to see specialists without having to see him first.  really, what more do you need?  i'm sitting here trying to think of any complaints i have about him, but i'm really drawing a blank.\",\n",
       " 'type': 'review',\n",
       " 'business_id': 'vcNAWiLM4dR7D2nwwJ7nCA'}"
      ]
     },
     "execution_count": 3,
     "metadata": {},
     "output_type": "execute_result"
    }
   ],
   "source": [
    "reviews[0]"
   ]
  },
  {
   "cell_type": "code",
   "execution_count": 4,
   "metadata": {},
   "outputs": [
    {
     "data": {
      "text/plain": [
       "{'votes': {'funny': 0, 'useful': 0, 'cool': 0},\n",
       " 'user_id': 'TLweDQj83Wgjy-6LaQO_Eg',\n",
       " 'review_id': 'BstZDMW7K81Rf0w1yzEl2Q',\n",
       " 'stars': 5,\n",
       " 'date': '2013-09-08',\n",
       " 'text': 'One of the best pedicures I have ever had! My nails are beautiful, really appreciated that Don made a suggestion and showed me what it would look like before putting on my nails. Only slight irritation was that I made appointment but I still waited 30 minutes. Because everything was great, I am able to over look that.',\n",
       " 'type': 'review',\n",
       " 'business_id': 'TDKSqI2O4nf5DNKoHn-MoA'}"
      ]
     },
     "execution_count": 4,
     "metadata": {},
     "output_type": "execute_result"
    }
   ],
   "source": [
    "reviews[34578]"
   ]
  },
  {
   "cell_type": "markdown",
   "metadata": {},
   "source": [
    "# Preparando os dados para aplicar LDA\n",
    "\n",
    "Ver notebook [Samba e a Alocação Latente de Dirichlet (LDA](https://www.kaggle.com/clovesgtx/samba-e-a-aloca-o-latente-de-dirichlet-lda)"
   ]
  },
  {
   "cell_type": "code",
   "execution_count": 5,
   "metadata": {},
   "outputs": [
    {
     "name": "stderr",
     "output_type": "stream",
     "text": [
      "/home/cloves/.local/lib/python3.6/site-packages/sklearn/externals/joblib/__init__.py:15: FutureWarning: sklearn.externals.joblib is deprecated in 0.21 and will be removed in 0.23. Please import this functionality directly from joblib, which can be installed with: pip install joblib. If this warning is raised when loading pickled models, you may need to re-serialize those models with scikit-learn 0.21+.\n",
      "  warnings.warn(msg, category=FutureWarning)\n"
     ]
    }
   ],
   "source": [
    "import numpy as np\n",
    "import pandas as pd\n",
    "import re, nltk, gensim\n",
    "import requests\n",
    "import json\n",
    "from sklearn.externals import joblib\n",
    "\n",
    "# Sklearn\n",
    "from sklearn.decomposition import LatentDirichletAllocation, TruncatedSVD\n",
    "from sklearn.feature_extraction.text import CountVectorizer, TfidfVectorizer\n",
    "from sklearn.model_selection import GridSearchCV\n",
    "from pprint import pprint\n",
    "\n",
    "# Plotting tools\n",
    "import pyLDAvis\n",
    "import pyLDAvis.sklearn\n",
    "import seaborn as sns\n",
    "import matplotlib.pyplot as plt\n",
    "\n",
    "%matplotlib inline"
   ]
  },
  {
   "cell_type": "code",
   "execution_count": 6,
   "metadata": {},
   "outputs": [],
   "source": [
    "text_reviews = [review[\"text\"] for review in reviews]"
   ]
  },
  {
   "cell_type": "code",
   "execution_count": 7,
   "metadata": {},
   "outputs": [
    {
     "name": "stdout",
     "output_type": "stream",
     "text": [
      "[['dr', 'goldberg', 'offers', 'everything', 'look', 'for', 'in', 'general', 'practitioner', 'he', 'nice', 'and', 'easy', 'to', 'talk', 'to', 'without', 'being', 'patronizing', 'he', 'always', 'on', 'time', 'in', 'seeing', 'his', 'patients', 'he', 'affiliated', 'with', 'top', 'notch', 'hospital', 'nyu', 'which', 'my', 'parents', 'have', 'explained', 'to', 'me', 'is', 'very', 'important', 'in', 'case', 'something', 'happens', 'and', 'you', 'need', 'surgery', 'and', 'you', 'can', 'get', 'referrals', 'to', 'see', 'specialists', 'without', 'having', 'to', 'see', 'him', 'first', 'really', 'what', 'more', 'do', 'you', 'need', 'sitting', 'here', 'trying', 'to', 'think', 'of', 'any', 'complaints', 'have', 'about', 'him', 'but', 'really', 'drawing', 'blank']]\n"
     ]
    }
   ],
   "source": [
    "# Tokenização dos docs\n",
    "def sent_to_words(sentences):\n",
    "    for sentence in sentences:\n",
    "        yield(gensim.utils.simple_preprocess(str(sentence), deacc=True))  # deacc=True removes punctuations\n",
    "\n",
    "data_words = list(sent_to_words(text_reviews))\n",
    "\n",
    "print(data_words[:1])"
   ]
  },
  {
   "cell_type": "code",
   "execution_count": 8,
   "metadata": {},
   "outputs": [],
   "source": [
    "del reviews\n",
    "del text_reviews"
   ]
  },
  {
   "cell_type": "code",
   "execution_count": 9,
   "metadata": {},
   "outputs": [
    {
     "name": "stdout",
     "output_type": "stream",
     "text": [
      "['dr goldberg offers everything look general practitioner nice easy talk without patronizing always time seeing patients affiliated top notch hospital nyu parents explained important case something happens need surgery get referrals see specialists without see first really need sitting trying think complaints really drawing blank', 'unfortunately frustration dr goldberg patient repeat experience many doctors nyc good doctor terrible staff seems staff simply never answers phone usually takes hours repeated calling get answer time wants deal run problem many doctors get office workers patients medical needs anyone answering phone work aggravation regret feel give dr goldberg stars']\n"
     ]
    }
   ],
   "source": [
    "# Removendo Stopwords\n",
    "def removeStops(texts, stopwords):\n",
    "    texts_out = []\n",
    "    for sent in texts:\n",
    "        texts_out.append(\" \".join([token for token in sent if token not in stopwords]))\n",
    "    return texts_out\n",
    "\n",
    "\n",
    "stopwords = nltk.corpus.stopwords.words('english')\n",
    "# Do lemmatization keeping only Noun, Adj, Verb, Adverb\n",
    "data_without_stops = removeStops(data_words, stopwords)\n",
    "\n",
    "# sem stopwords\n",
    "print(data_without_stops[:2])"
   ]
  },
  {
   "cell_type": "code",
   "execution_count": 10,
   "metadata": {},
   "outputs": [],
   "source": [
    "del data_words"
   ]
  },
  {
   "cell_type": "markdown",
   "metadata": {},
   "source": [
    "### Criando a matriz Documento-Palavra"
   ]
  },
  {
   "cell_type": "code",
   "execution_count": 11,
   "metadata": {},
   "outputs": [],
   "source": [
    "vectorizer = CountVectorizer(analyzer='word',       \n",
    "                             min_df=30,                        # minimum reqd occurences of a word \n",
    "                             token_pattern='[a-zA-Z0-9]{3,}'  # num chars > 3\n",
    "                            )\n",
    "\n",
    "# data_vectorized = vectorizer.fit_transform(data_lemmatized)\n",
    "data_vectorized = vectorizer.fit_transform(data_without_stops)"
   ]
  },
  {
   "cell_type": "markdown",
   "metadata": {},
   "source": [
    "# Treinando o Modelo LDA com Sklearn"
   ]
  },
  {
   "cell_type": "code",
   "execution_count": 12,
   "metadata": {},
   "outputs": [
    {
     "data": {
      "text/plain": [
       "GridSearchCV(cv=None, error_score=nan,\n",
       "             estimator=LatentDirichletAllocation(batch_size=128,\n",
       "                                                 doc_topic_prior=None,\n",
       "                                                 evaluate_every=-1,\n",
       "                                                 learning_decay=0.7,\n",
       "                                                 learning_method='batch',\n",
       "                                                 learning_offset=10.0,\n",
       "                                                 max_doc_update_iter=100,\n",
       "                                                 max_iter=10,\n",
       "                                                 mean_change_tol=0.001,\n",
       "                                                 n_components=10, n_jobs=None,\n",
       "                                                 perp_tol=0.1,\n",
       "                                                 random_state=None,\n",
       "                                                 topic_word_prior=None,\n",
       "                                                 total_samples=1000000.0,\n",
       "                                                 verbose=0),\n",
       "             iid='deprecated', n_jobs=None,\n",
       "             param_grid={'learning_decay': [0.5, 0.7, 0.9],\n",
       "                         'n_components': [10, 20, 30]},\n",
       "             pre_dispatch='2*n_jobs', refit=True, return_train_score=False,\n",
       "             scoring=None, verbose=0)"
      ]
     },
     "execution_count": 12,
     "metadata": {},
     "output_type": "execute_result"
    }
   ],
   "source": [
    "# Define Search Param\n",
    "search_params = {'n_components': [10, 20, 30], 'learning_decay': [.5, .7, .9]}\n",
    "\n",
    "# Init the Model\n",
    "lda = LatentDirichletAllocation()\n",
    "\n",
    "# Init Grid Search Class\n",
    "model = GridSearchCV(lda, param_grid=search_params)\n",
    "\n",
    "# Do the Grid Search\n",
    "model.fit(data_vectorized)"
   ]
  },
  {
   "cell_type": "code",
   "execution_count": 14,
   "metadata": {},
   "outputs": [
    {
     "data": {
      "text/plain": [
       "['topicModel.joblib']"
      ]
     },
     "execution_count": 14,
     "metadata": {},
     "output_type": "execute_result"
    }
   ],
   "source": [
    "from joblib import dump, load\n",
    "\n",
    "dump(model, 'topicModel.joblib')"
   ]
  },
  {
   "cell_type": "code",
   "execution_count": 16,
   "metadata": {},
   "outputs": [
    {
     "data": {
      "text/plain": [
       "['best_lda_model.joblib']"
      ]
     },
     "execution_count": 16,
     "metadata": {},
     "output_type": "execute_result"
    }
   ],
   "source": [
    "dump(best_lda_model, \"best_lda_model.joblib\")"
   ]
  },
  {
   "cell_type": "code",
   "execution_count": 13,
   "metadata": {},
   "outputs": [
    {
     "name": "stdout",
     "output_type": "stream",
     "text": [
      "Melhores parâmetros:  {'learning_decay': 0.7, 'n_components': 20}\n",
      "Melhor score de probabilidade logarítmica:  -107918309.6867714\n",
      "Perplexidade do modelo:  2113.188085865173\n"
     ]
    }
   ],
   "source": [
    "# Melhor modelo\n",
    "best_lda_model = model.best_estimator_\n",
    "\n",
    "# Hiperparâmetros do modelo\n",
    "print(\"Melhores parâmetros: \", model.best_params_)\n",
    "\n",
    "# probabilidade logarítmica\n",
    "print(\"Melhor score de probabilidade logarítmica: \", model.best_score_)\n",
    "\n",
    "# Perplexidade\n",
    "print(\"Perplexidade do modelo: \", best_lda_model.perplexity(data_vectorized))\n"
   ]
  },
  {
   "cell_type": "code",
   "execution_count": 15,
   "metadata": {},
   "outputs": [
    {
     "data": {
      "image/png": "[encoded data removed]",
      "text/plain": [
       "<Figure size 864x576 with 1 Axes>"
      ]
     },
     "metadata": {
      "needs_background": "light"
     },
     "output_type": "display_data"
    }
   ],
   "source": [
    "results = pd.DataFrame(model.cv_results_)\n",
    "\n",
    "current_palette = sns.color_palette(\"Set2\", 3)\n",
    "\n",
    "plt.figure(figsize=(12,8))\n",
    "\n",
    "sns.lineplot(data=results,\n",
    "             x='param_n_components',\n",
    "             y='mean_test_score',\n",
    "             hue='param_learning_decay',\n",
    "             palette=current_palette,\n",
    "             marker='o'\n",
    "            )\n",
    "\n",
    "plt.show()"
   ]
  }
 ],
 "metadata": {
  "kernelspec": {
   "display_name": "Python 3",
   "language": "python",
   "name": "python3"
  },
  "language_info": {
   "codemirror_mode": {
    "name": "ipython",
    "version": 3
   },
   "file_extension": ".py",
   "mimetype": "text/x-python",
   "name": "python",
   "nbconvert_exporter": "python",
   "pygments_lexer": "ipython3",
   "version": "3.6.9"
  }
 },
 "nbformat": 4,
 "nbformat_minor": 4
}
