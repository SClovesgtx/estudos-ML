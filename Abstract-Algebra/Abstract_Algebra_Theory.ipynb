{
 "cells": [
  {
   "cell_type": "markdown",
   "metadata": {},
   "source": [
    "# Motivação\n",
    "\n",
    "Álgebra abstrata é a sub-área da matemática que estuda as estruturas algébricas como grupos, anéis, corpos, espaços vetoriais, módulos e álgebras. \n",
    "\n",
    "Atualmente matemáticos e físicos matemáticos fazem uso extensivo de álgebra abstrata; por exemplo, física teórica se baseia em [álgebras de Lie](https://pt.wikipedia.org/wiki/%C3%81lgebra_de_Lie)."
   ]
  },
  {
   "cell_type": "markdown",
   "metadata": {},
   "source": [
    "# Definião de Grupo\n",
    "\n",
    "Assista o seguinte vídeo para entender a definição de grupo:\n",
    "\n",
    "* [Group Definition (expanded) - Abstract Algebra](https://www.youtube.com/watch?v=g7L_r6zw4-c&list=PLi01XoE8jYoi3SgnnGorR_XOW3IcK-TP6&index=3)\n",
    "\n",
    "<img src=\"img/1.png\">"
   ]
  },
  {
   "cell_type": "code",
   "execution_count": null,
   "metadata": {},
   "outputs": [],
   "source": []
  }
 ],
 "metadata": {
  "kernelspec": {
   "display_name": "Python 3",
   "language": "python",
   "name": "python3"
  },
  "language_info": {
   "codemirror_mode": {
    "name": "ipython",
    "version": 3
   },
   "file_extension": ".py",
   "mimetype": "text/x-python",
   "name": "python",
   "nbconvert_exporter": "python",
   "pygments_lexer": "ipython3",
   "version": "3.6.8"
  }
 },
 "nbformat": 4,
 "nbformat_minor": 2
}
