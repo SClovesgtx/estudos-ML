{
 "cells": [
  {
   "cell_type": "markdown",
   "metadata": {},
   "source": [
    "# Padrões Raros vs. Padrões Negativos\n",
    "\n",
    "Padrões raros são aqueles com baixo suporte mas que são interessantes. Umas das maneiras para minera-los seria configurações individualizadas de suporte mínimo para diferentes grupos de itens.\n",
    "\n",
    "Já os Padrões Negativos indicam itens que são bem improváveis de acontecerem juntos. Por exemplo, na presença de um item A é bem improvável que o item B apareça.\n",
    "\n",
    "Podemos dizer um item A e B são negativamente correlacionados se tanto A quanto B forem itens frequentes mas AB não. \n",
    "\n",
    "![](imgs/32.png)\n",
    "\n",
    "![](imgs/33.png)\n",
    "\n",
    "![](imgs/34.png)"
   ]
  },
  {
   "cell_type": "markdown",
   "metadata": {},
   "source": [
    "# Minerando Padrões Comprimidos\n",
    "\n",
    "\n",
    "![](imgs/35.png)\n",
    "\n",
    "![](imgs/36.png)\n",
    "\n",
    "![](imgs/37.png)"
   ]
  },
  {
   "cell_type": "markdown",
   "metadata": {},
   "source": [
    "# Redundancy-Aware Top-k Patterns"
   ]
  },
  {
   "cell_type": "code",
   "execution_count": null,
   "metadata": {},
   "outputs": [],
   "source": []
  }
 ],
 "metadata": {
  "kernelspec": {
   "display_name": "Python 3",
   "language": "python",
   "name": "python3"
  },
  "language_info": {
   "codemirror_mode": {
    "name": "ipython",
    "version": 3
   },
   "file_extension": ".py",
   "mimetype": "text/x-python",
   "name": "python",
   "nbconvert_exporter": "python",
   "pygments_lexer": "ipython3",
   "version": "3.6.9"
  }
 },
 "nbformat": 4,
 "nbformat_minor": 4
}
