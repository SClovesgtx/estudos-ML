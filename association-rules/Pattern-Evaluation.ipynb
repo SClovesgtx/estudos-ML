{
 "cells": [
  {
   "cell_type": "markdown",
   "metadata": {},
   "source": [
    "# Como Julgar se uma Regra/Padrão é interessante?\n",
    "\n",
    "\n",
    "* A mineração de padrões irá gerar uma quantidade grande de de padrões/regras\n",
    "* Nem todas são interessantes\n",
    "* Medidas do quão interessante uma regra/padrão pode ser: objetivo vs. objetiva\n",
    "     * **objetiva**: suporte, confiança, correlação, etc\n",
    "     * **subjetiva**: \"o lixo de um pode ser o tesouro de outro.\""
   ]
  },
  {
   "cell_type": "markdown",
   "metadata": {},
   "source": [
    "### Limitações do Frame-work Suporte-Confiança\n",
    "\n",
    "#### <mark>warning</mark>: nem todas as as regras com suporte e confiança altas são interessantes\n",
    "\n",
    "Vamos ver o seguinte exemplo que ilustra a confusão que esse frame-work pode gerar.\n",
    "\n",
    "![](imgs/22.png)"
   ]
  },
  {
   "cell_type": "markdown",
   "metadata": {},
   "source": [
    "### Medidas interessantes: Lift e X²\n",
    "\n",
    "* C = come cereais, \n",
    "\n",
    "* $\\lnot C$ = não come cereais\n",
    "\n",
    "* B = joga basketball, \n",
    "\n",
    "* $\\lnot F$ = não joga basketball\n",
    "\n",
    "![](imgs/23.png)\n",
    "\n",
    "\n",
    "![](imgs/24.png)\n",
    "\n",
    "### X²\n",
    "\n",
    "![](imgs/25.png)\n",
    "\n",
    "![](imgs/26.png)\n",
    "\n",
    "### As medidas Lift e X² também podem gerar confusão \n",
    "\n",
    "![](imgs/27.png)"
   ]
  },
  {
   "cell_type": "markdown",
   "metadata": {},
   "source": [
    "### Procure Usar Medidas que são Invariantes a valores nulos\n",
    "\n",
    "Valores nulos podem levar as medidas Lift e X² a serem enganadoras, tais medidas não são variantes com a presença de valores nulos. Segue uma tabela de medidas que Nulo-Ivariantes e não Nulo-Invariantes:\n",
    "\n",
    "![](imgs/28.png)\n",
    "\n",
    "\n",
    "![](imgs/29.png)"
   ]
  },
  {
   "cell_type": "markdown",
   "metadata": {},
   "source": [
    "### Comparação entre medidas Nulo-Invariantes\n",
    "\n",
    "![](imgs/30.png)"
   ]
  },
  {
   "cell_type": "markdown",
   "metadata": {},
   "source": []
  }
 ],
 "metadata": {
  "kernelspec": {
   "display_name": "Python 3",
   "language": "python",
   "name": "python3"
  },
  "language_info": {
   "codemirror_mode": {
    "name": "ipython",
    "version": 3
   },
   "file_extension": ".py",
   "mimetype": "text/x-python",
   "name": "python",
   "nbconvert_exporter": "python",
   "pygments_lexer": "ipython3",
   "version": "3.6.9"
  }
 },
 "nbformat": 4,
 "nbformat_minor": 4
}
