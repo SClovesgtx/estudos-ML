{
 "cells": [
  {
   "cell_type": "markdown",
   "metadata": {},
   "source": [
    "O código a seguir é reprodução do código apresentado no vídeo tutorial [Recurrent Neural Networks - EXPLAINED!](https://www.youtube.com/watch?v=yZv_yRgOvMg&list=PLTl9hO2Oobd837GshqBFdhH-ERSMn9X54)\n",
    "\n",
    "O objetivo desse notebook é gerar sentenças usando [Redes Neurais Recorrentes do tipo Vanilla](https://calvinfeng.gitbook.io/machine-learning-notebook/supervised-learning/recurrent-neural-network/recurrent_neural_networks)"
   ]
  },
  {
   "cell_type": "code",
   "execution_count": 13,
   "metadata": {},
   "outputs": [],
   "source": [
    "from datetime import datetime\n",
    "import itertools\n",
    "import numpy as np\n",
    "import nltk\n",
    "import os\n",
    "import operator\n",
    "import sys"
   ]
  },
  {
   "cell_type": "code",
   "execution_count": 2,
   "metadata": {},
   "outputs": [
    {
     "name": "stderr",
     "output_type": "stream",
     "text": [
      "[nltk_data] Downloading collection 'book'\n",
      "[nltk_data]    | \n",
      "[nltk_data]    | Downloading package abc to /home/cloves/nltk_data...\n",
      "[nltk_data]    |   Unzipping corpora/abc.zip.\n",
      "[nltk_data]    | Downloading package brown to\n",
      "[nltk_data]    |     /home/cloves/nltk_data...\n",
      "[nltk_data]    |   Unzipping corpora/brown.zip.\n",
      "[nltk_data]    | Downloading package chat80 to\n",
      "[nltk_data]    |     /home/cloves/nltk_data...\n",
      "[nltk_data]    |   Unzipping corpora/chat80.zip.\n",
      "[nltk_data]    | Downloading package cmudict to\n",
      "[nltk_data]    |     /home/cloves/nltk_data...\n",
      "[nltk_data]    |   Unzipping corpora/cmudict.zip.\n",
      "[nltk_data]    | Downloading package conll2000 to\n",
      "[nltk_data]    |     /home/cloves/nltk_data...\n",
      "[nltk_data]    |   Unzipping corpora/conll2000.zip.\n",
      "[nltk_data]    | Downloading package conll2002 to\n",
      "[nltk_data]    |     /home/cloves/nltk_data...\n",
      "[nltk_data]    |   Unzipping corpora/conll2002.zip.\n",
      "[nltk_data]    | Downloading package dependency_treebank to\n",
      "[nltk_data]    |     /home/cloves/nltk_data...\n",
      "[nltk_data]    |   Unzipping corpora/dependency_treebank.zip.\n",
      "[nltk_data]    | Downloading package genesis to\n",
      "[nltk_data]    |     /home/cloves/nltk_data...\n",
      "[nltk_data]    |   Unzipping corpora/genesis.zip.\n",
      "[nltk_data]    | Downloading package gutenberg to\n",
      "[nltk_data]    |     /home/cloves/nltk_data...\n",
      "[nltk_data]    |   Unzipping corpora/gutenberg.zip.\n",
      "[nltk_data]    | Downloading package ieer to /home/cloves/nltk_data...\n",
      "[nltk_data]    |   Unzipping corpora/ieer.zip.\n",
      "[nltk_data]    | Downloading package inaugural to\n",
      "[nltk_data]    |     /home/cloves/nltk_data...\n",
      "[nltk_data]    |   Unzipping corpora/inaugural.zip.\n",
      "[nltk_data]    | Downloading package movie_reviews to\n",
      "[nltk_data]    |     /home/cloves/nltk_data...\n",
      "[nltk_data]    |   Unzipping corpora/movie_reviews.zip.\n",
      "[nltk_data]    | Downloading package nps_chat to\n",
      "[nltk_data]    |     /home/cloves/nltk_data...\n",
      "[nltk_data]    |   Unzipping corpora/nps_chat.zip.\n",
      "[nltk_data]    | Downloading package names to\n",
      "[nltk_data]    |     /home/cloves/nltk_data...\n",
      "[nltk_data]    |   Unzipping corpora/names.zip.\n",
      "[nltk_data]    | Downloading package ppattach to\n",
      "[nltk_data]    |     /home/cloves/nltk_data...\n",
      "[nltk_data]    |   Unzipping corpora/ppattach.zip.\n",
      "[nltk_data]    | Downloading package reuters to\n",
      "[nltk_data]    |     /home/cloves/nltk_data...\n",
      "[nltk_data]    | Downloading package senseval to\n",
      "[nltk_data]    |     /home/cloves/nltk_data...\n",
      "[nltk_data]    |   Unzipping corpora/senseval.zip.\n",
      "[nltk_data]    | Downloading package state_union to\n",
      "[nltk_data]    |     /home/cloves/nltk_data...\n",
      "[nltk_data]    |   Unzipping corpora/state_union.zip.\n",
      "[nltk_data]    | Downloading package stopwords to\n",
      "[nltk_data]    |     /home/cloves/nltk_data...\n",
      "[nltk_data]    |   Package stopwords is already up-to-date!\n",
      "[nltk_data]    | Downloading package swadesh to\n",
      "[nltk_data]    |     /home/cloves/nltk_data...\n",
      "[nltk_data]    |   Unzipping corpora/swadesh.zip.\n",
      "[nltk_data]    | Downloading package timit to\n",
      "[nltk_data]    |     /home/cloves/nltk_data...\n",
      "[nltk_data]    |   Unzipping corpora/timit.zip.\n",
      "[nltk_data]    | Downloading package treebank to\n",
      "[nltk_data]    |     /home/cloves/nltk_data...\n",
      "[nltk_data]    |   Unzipping corpora/treebank.zip.\n",
      "[nltk_data]    | Downloading package toolbox to\n",
      "[nltk_data]    |     /home/cloves/nltk_data...\n",
      "[nltk_data]    |   Unzipping corpora/toolbox.zip.\n",
      "[nltk_data]    | Downloading package udhr to /home/cloves/nltk_data...\n",
      "[nltk_data]    |   Unzipping corpora/udhr.zip.\n",
      "[nltk_data]    | Downloading package udhr2 to\n",
      "[nltk_data]    |     /home/cloves/nltk_data...\n",
      "[nltk_data]    |   Unzipping corpora/udhr2.zip.\n",
      "[nltk_data]    | Downloading package unicode_samples to\n",
      "[nltk_data]    |     /home/cloves/nltk_data...\n",
      "[nltk_data]    |   Unzipping corpora/unicode_samples.zip.\n",
      "[nltk_data]    | Downloading package webtext to\n",
      "[nltk_data]    |     /home/cloves/nltk_data...\n",
      "[nltk_data]    |   Unzipping corpora/webtext.zip.\n",
      "[nltk_data]    | Downloading package wordnet to\n",
      "[nltk_data]    |     /home/cloves/nltk_data...\n",
      "[nltk_data]    |   Unzipping corpora/wordnet.zip.\n",
      "[nltk_data]    | Downloading package wordnet_ic to\n",
      "[nltk_data]    |     /home/cloves/nltk_data...\n",
      "[nltk_data]    |   Unzipping corpora/wordnet_ic.zip.\n",
      "[nltk_data]    | Downloading package words to\n",
      "[nltk_data]    |     /home/cloves/nltk_data...\n",
      "[nltk_data]    |   Unzipping corpora/words.zip.\n",
      "[nltk_data]    | Downloading package maxent_treebank_pos_tagger to\n",
      "[nltk_data]    |     /home/cloves/nltk_data...\n",
      "[nltk_data]    |   Unzipping taggers/maxent_treebank_pos_tagger.zip.\n",
      "[nltk_data]    | Downloading package maxent_ne_chunker to\n",
      "[nltk_data]    |     /home/cloves/nltk_data...\n",
      "[nltk_data]    |   Unzipping chunkers/maxent_ne_chunker.zip.\n",
      "[nltk_data]    | Downloading package universal_tagset to\n",
      "[nltk_data]    |     /home/cloves/nltk_data...\n",
      "[nltk_data]    |   Unzipping taggers/universal_tagset.zip.\n",
      "[nltk_data]    | Downloading package punkt to\n",
      "[nltk_data]    |     /home/cloves/nltk_data...\n",
      "[nltk_data]    |   Package punkt is already up-to-date!\n",
      "[nltk_data]    | Downloading package book_grammars to\n",
      "[nltk_data]    |     /home/cloves/nltk_data...\n",
      "[nltk_data]    |   Unzipping grammars/book_grammars.zip.\n",
      "[nltk_data]    | Downloading package city_database to\n",
      "[nltk_data]    |     /home/cloves/nltk_data...\n",
      "[nltk_data]    |   Unzipping corpora/city_database.zip.\n",
      "[nltk_data]    | Downloading package tagsets to\n",
      "[nltk_data]    |     /home/cloves/nltk_data...\n",
      "[nltk_data]    |   Unzipping help/tagsets.zip.\n",
      "[nltk_data]    | Downloading package panlex_swadesh to\n",
      "[nltk_data]    |     /home/cloves/nltk_data...\n",
      "[nltk_data]    | Downloading package averaged_perceptron_tagger to\n",
      "[nltk_data]    |     /home/cloves/nltk_data...\n",
      "[nltk_data]    |   Unzipping taggers/averaged_perceptron_tagger.zip.\n",
      "[nltk_data]    | \n",
      "[nltk_data]  Done downloading collection book\n"
     ]
    },
    {
     "data": {
      "text/plain": [
       "True"
      ]
     },
     "execution_count": 2,
     "metadata": {},
     "output_type": "execute_result"
    }
   ],
   "source": [
    "nltk.download(\"book\")"
   ]
  },
  {
   "cell_type": "code",
   "execution_count": 14,
   "metadata": {},
   "outputs": [],
   "source": [
    "vocabulary_size = 8000\n",
    "unknown_token = \"UNKNOWN_TOKEN\"\n",
    "sentence_start_token = \"SENTENCE_START\"\n",
    "sentence_end_token = \"SENTENCE_END\"\n",
    "\n",
    "corpora_dir = \"/home/cloves/nltk_data/corpora/state_union\""
   ]
  },
  {
   "cell_type": "code",
   "execution_count": 15,
   "metadata": {},
   "outputs": [
    {
     "name": "stdout",
     "output_type": "stream",
     "text": [
      "lendo os dados...\n"
     ]
    },
    {
     "data": {
      "text/plain": [
       "['C-Span State of the Union Address CorpusAnnual US presidential addresses 1945-2006http://www.c-span.org/executive/stateoftheunion.asp(Thanks to Kathleen Ahrens for compiling this corpus fromthe C-Span sources.)',\n",
       " \"PRESIDENT GERALD R. FORD'S ADDRESS BEFORE A JOINT SESSION OF THE CONGRESS REPORTING ON THE STATE OF THE UNION January 19, 1976Mr.\",\n",
       " 'Speaker, Mr. Vice President, Members of the 94th Congress, and distinguished guests:As we begin our Bicentennial, America is still one of the youngest nations in recorded history.',\n",
       " \"Long before our forefathers came to these shores, men and women had been struggling on this planet to forge a better life for themselves and their families.In man's long, upward march from savagery and slavery--throughout the nearly 2,000 years of the Christian calendar, the nearly 6,000 years of Jewish reckoning--there have been many deep, terrifying valleys, but also many bright and towering peaks.One peak stands highest in the ranges of human history.\",\n",
       " 'One example shines forth of a people uniting to produce abundance and to share the good life fairly and with freedom.']"
      ]
     },
     "execution_count": 15,
     "metadata": {},
     "output_type": "execute_result"
    }
   ],
   "source": [
    "print(\"lendo os dados...\")\n",
    "\n",
    "file_list = []\n",
    "for root, _ , files in os.walk(corpora_dir):\n",
    "    for filename in files:\n",
    "        file_list.append(os.path.join(root, filename))\n",
    "        \n",
    "sentences = []\n",
    "for files in file_list:\n",
    "    with open(files, \"r\") as fin:\n",
    "        try:\n",
    "            str_form = fin.read().replace(\"\\n\", \"\")\n",
    "            sentences.extend(nltk.sent_tokenize(str_form))\n",
    "        except UnicodeDecodeError:\n",
    "            pass\n",
    "        \n",
    "sentences[:5]"
   ]
  },
  {
   "cell_type": "code",
   "execution_count": 17,
   "metadata": {},
   "outputs": [
    {
     "data": {
      "text/plain": [
       "['SENTENCE_START SENTENCE_START C-Span State of the Union Address CorpusAnnual US presidential addresses 1945-2006http://www.c-span.org/executive/stateoftheunion.asp(Thanks to Kathleen Ahrens for compiling this corpus fromthe C-Span sources.) SENTENCE_END SENTENCE_END',\n",
       " \"SENTENCE_START SENTENCE_START PRESIDENT GERALD R. FORD'S ADDRESS BEFORE A JOINT SESSION OF THE CONGRESS REPORTING ON THE STATE OF THE UNION January 19, 1976Mr. SENTENCE_END SENTENCE_END\",\n",
       " 'SENTENCE_START SENTENCE_START Speaker, Mr. Vice President, Members of the 94th Congress, and distinguished guests:As we begin our Bicentennial, America is still one of the youngest nations in recorded history. SENTENCE_END SENTENCE_END',\n",
       " \"SENTENCE_START SENTENCE_START Long before our forefathers came to these shores, men and women had been struggling on this planet to forge a better life for themselves and their families.In man's long, upward march from savagery and slavery--throughout the nearly 2,000 years of the Christian calendar, the nearly 6,000 years of Jewish reckoning--there have been many deep, terrifying valleys, but also many bright and towering peaks.One peak stands highest in the ranges of human history. SENTENCE_END SENTENCE_END\",\n",
       " 'SENTENCE_START SENTENCE_START One example shines forth of a people uniting to produce abundance and to share the good life fairly and with freedom. SENTENCE_END SENTENCE_END']"
      ]
     },
     "execution_count": 17,
     "metadata": {},
     "output_type": "execute_result"
    }
   ],
   "source": [
    "# adicionando delimitadores de sententenças\n",
    "sentences = [sentence_start_token + \" \" + x + \" \" + sentence_end_token for x in sentences]\n",
    "sentences[:5]"
   ]
  },
  {
   "cell_type": "code",
   "execution_count": 18,
   "metadata": {},
   "outputs": [
    {
     "name": "stdout",
     "output_type": "stream",
     "text": [
      "Há  18336  palavras únicas!\n"
     ]
    }
   ],
   "source": [
    "# tokenizar em palavras\n",
    "tokenized_sentences = [nltk.word_tokenize(sent) for sent in sentences]\n",
    "\n",
    "# contar a frequência de cada palavra\n",
    "word_freq = nltk.FreqDist(itertools.chain(*tokenized_sentences))\n",
    "\n",
    "print(\"Há \", len(word_freq.items()), \" palavras únicas!\")"
   ]
  },
  {
   "cell_type": "code",
   "execution_count": 19,
   "metadata": {},
   "outputs": [],
   "source": [
    "# obter as palavras mais frequentes e construir\n",
    "# os vetores index_to_word e word_to_index\n",
    "vocab = word_freq.most_common(vocabulary_size - 1)\n",
    "index_to_word = [x[0] for x in vocab] # extraindo as palavras\n",
    "index_to_word.append(unknown_token) # adicionando um token \"unkown\" para as palavras do corpora\n",
    "word_to_index = dict([(w, i) for i, w in enumerate(index_to_word)])"
   ]
  },
  {
   "cell_type": "code",
   "execution_count": 20,
   "metadata": {},
   "outputs": [
    {
     "data": {
      "text/plain": [
       "1627"
      ]
     },
     "execution_count": 20,
     "metadata": {},
     "output_type": "execute_result"
    }
   ],
   "source": [
    "word_to_index[\"word\"]"
   ]
  },
  {
   "cell_type": "code",
   "execution_count": 21,
   "metadata": {},
   "outputs": [
    {
     "data": {
      "text/plain": [
       "2"
      ]
     },
     "execution_count": 21,
     "metadata": {},
     "output_type": "execute_result"
    }
   ],
   "source": [
    "word_to_index[\"the\"]"
   ]
  },
  {
   "cell_type": "code",
   "execution_count": 22,
   "metadata": {},
   "outputs": [
    {
     "data": {
      "text/plain": [
       "14"
      ]
     },
     "execution_count": 22,
     "metadata": {},
     "output_type": "execute_result"
    }
   ],
   "source": [
    "word_to_index[\"is\"]"
   ]
  },
  {
   "cell_type": "code",
   "execution_count": 23,
   "metadata": {},
   "outputs": [],
   "source": [
    "# substituir todas as palavras que não estão no \n",
    "# nosso vocabulário por \"unkown\"\n",
    "for i, sent in enumerate(tokenized_sentences):\n",
    "    tokenized_sentences[i] = [w if w in word_to_index else unknown_token for w in sent]"
   ]
  },
  {
   "cell_type": "code",
   "execution_count": 25,
   "metadata": {},
   "outputs": [],
   "source": [
    "# separando os dados para treino\n",
    "# Cada X representa uma palavra.\n",
    "# Cada y representa a palavra que vem logo após X na sequência.\n",
    "X_train = np.asarray([[word_to_index[w] for w in sent[:-1]] for sent in tokenized_sentences])\n",
    "y_train = np.asarray([[word_to_index[w] for w in sent[1:]] for sent in tokenized_sentences])"
   ]
  },
  {
   "cell_type": "code",
   "execution_count": 26,
   "metadata": {},
   "outputs": [
    {
     "name": "stdout",
     "output_type": "stream",
     "text": [
      "As 10ª sentença:\n",
      "\n",
      "[('SENTENCE_START', 'SENTENCE_START'), ('SENTENCE_START', 'I'), ('I', 'believe'), ('believe', 'this'), ('this', 'not'), ('not', 'because'), ('because', 'I'), ('I', 'am'), ('am', 'told'), ('told', 'to'), ('to', 'believe'), ('believe', 'it'), ('it', ','), (',', 'but'), ('but', 'because'), ('because', 'life'), ('life', 'has'), ('has', 'been'), ('been', 'better'), ('better', 'for'), ('for', 'me'), ('me', 'than'), ('than', 'it'), ('it', 'was'), ('was', 'for'), ('for', 'my'), ('my', 'father'), ('father', 'and'), ('and', 'my'), ('my', 'mother'), ('mother', '.'), ('.', 'SENTENCE_END'), ('SENTENCE_END', 'SENTENCE_END')]\n"
     ]
    }
   ],
   "source": [
    "# Printando exemplos dos dados de treino\n",
    "# print( list(zip(x_example, y_example)) )\n",
    "x_example, y_example = X_train[10], y_train[10]\n",
    "print(\"As 10ª sentença:\\n\")\n",
    "print( list(zip([index_to_word[x] for x in x_example], [index_to_word[y] for y in y_example])) )"
   ]
  }
 ],
 "metadata": {
  "kernelspec": {
   "display_name": "Python 3",
   "language": "python",
   "name": "python3"
  },
  "language_info": {
   "codemirror_mode": {
    "name": "ipython",
    "version": 3
   },
   "file_extension": ".py",
   "mimetype": "text/x-python",
   "name": "python",
   "nbconvert_exporter": "python",
   "pygments_lexer": "ipython3",
   "version": "3.6.9"
  }
 },
 "nbformat": 4,
 "nbformat_minor": 4
}
