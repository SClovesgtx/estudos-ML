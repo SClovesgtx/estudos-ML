{
 "cells": [
  {
   "cell_type": "markdown",
   "metadata": {},
   "source": [
    "# MODELO COMPUTACIONAL DO CÉREBRO"
   ]
  },
  {
   "cell_type": "markdown",
   "metadata": {},
   "source": [
    "## Aprendizado On-line x Aprendizado em Lote\n",
    "\n",
    "Ao treinar um modelo de aprendizado, existem dois processos principais que podem ser usados com relação à forma como os dados de treinamento são tratados: aprendizado em lote e aprendizado online.\n",
    "\n",
    "No aprendizado em lote, o modelo aprende com lotes de dados - geralmente com todo o conjunto de treinamento de uma só vez. No aprendizado on-line, o modelo aprende com os dados processados sequencialmente ao longo do tempo, à medida que se tornam disponíveis.\n",
    "\n",
    "Que tipo de aprendizado o cérebro humano usa principalmente?\n",
    "\n",
    "O cérebro humano é capaz de melhorar gradualmente ao longo do tempo, dados os dados atualmente disponíveis. Isso explica por que os adultos são melhores na maioria das tarefas que as crianças; eles tiveram mais tempo para treinar do que  as crianças. Isso é um indicativo de aprendizado online. Se os humanos aprendessem pelo aprendizado em lote, precisaríamos coletar enormes conjuntos de pares de inputs e outputs antes de aprender algo útil.\n",
    "\n",
    "As RNAs podem realmente usar um (ou ambos) dos métodos de aprendizado - existem algumas vantagens e desvantagens que serão discutidas mais adiante. Mas, sem surpresa, o aprendizado on-line demonstrou funcionar melhor em muitos casos, como na backpropagation (retropropagação), uma técnica que discutiremos mais adiante.\n",
    "\n",
    "O aprendizado on-line requer menos armazenamento do que o aprendizado em lote, pois cada ponto de dados é aprendido (e depois \"jogado fora\") uma vez adquirido. O aprendizado em lote, por outro lado, deve armazenar todos os seus dados de treinamento (ou grandes blocos) antes que ele possa começar a aprender, para ter mais requisitos de armazenamento.\n",
    "\n",
    "O aprendizado on-line também permite uma melhoria gradual ao longo do tempo. Isso contrasta com o aprendizado em lote, que mostra melhorias repentinas quando dados suficientes são coletados e o aprendizado pode começar. Isso é especialmente útil para aprender dados de séries temporais (dados chegando sequencialmente no tempo).\n",
    "\n",
    "No entanto, o aprendizado on-line normalmente não facilita a avaliação de desempenho do modelo de aprendizado. Em particular, geralmente não podemos designar alguns dados para serem \"dados de teste\" para testar o desempenho do modelo após o aprendizado dos dados de treinamento, porque é improvável que os dados sejam independentes ao longo do tempo. Além disso, não está claro como ponderar o desempenho mais recente em relação ao desempenho anterior.\n",
    "\n",
    "Como uma analogia do mundo real, se uma criança tem más técnicas para aprender a linguagem, ela normalmente não seria percebida até muito mais tarde; por exemplo, talvez quando ele / ela tenha que escrever frases completas pela primeira vez. Nesse momento, seria difícil diagnosticar onde o processo de aprendizado deu errado e como corrigi-lo. No aprendizado em lote, esses problemas são menos presentes, pois é possível designar facilmente alguns dados como \"dados de teste\" e alterar regularmente o modelo e simplesmente executar novamente os dados em lote."
   ]
  },
  {
   "cell_type": "markdown",
   "metadata": {},
   "source": [
    "## Neurônio Biológico\n",
    "\n",
    "Agora que discutimos como o cérebro (e RNAs) pode importar dados, o que ele realmente faz com esses dados para aprender? Este não é um curso de neuroanatomia, então vamos direto ao ponto: os neurônios são as unidades mais simples de computação no cérebro humano, e suas interações facilitam funções cerebrais, como o aprendizado.\n",
    "\n",
    "<img src=\"img/partes-neuronio.jpg\">\n",
    "\n",
    "Cada neurônio calcula uma função simples. Embora a dinâmica real de como um neurônio biológico computa as coisas seja complexa, eles basicamente se **integram** e **disparam**, ou seja, um neurônio executa uma computação com os inputs que ele recebe de outros neurônios com as quais ele está integrado/ligado e, em seguida, dispara um estímulo elétrico se essa computação ultrapassar um certo limite/limear.\n",
    "\n",
    "A seguir, temos uma imagem real de um neurônio recebendo um estímulo e depois disparando.\n",
    "\n",
    "<img src=\"img/neuron-propogation.gif\">"
   ]
  },
  {
   "cell_type": "markdown",
   "metadata": {},
   "source": [
    "## Neurônio artificial\n",
    "\n",
    "Um neurônio artifical nada mais é do uma função matemática, um representação bem simplificada e trivial de um neorônio biológico.\n",
    "\n",
    "A idéia básica do modelo de um neurônio nas RNAs é que os inputs para um neurônio são combinados (como uma soma ponderada) em um único valor $v$. Então, uma função de ativação, $H(v)$, é aplicada para determinar se o neurônio dispara ou não.\n",
    "\n",
    "Para um neurônio físico, o disparo é \"tudo ou nada\"; isto é, dispara ou não. Qual função de ativação abaixo melhor modelaria isso? A vermelha ou a azul?\n",
    "\n",
    "<img src=\"img/1.png\">\n",
    "\n",
    "O disparo do tipo \"tudo ou nada\" requer um salto acentuado na saída para dois inputs semelhantes. Isso ocorre porque o disparo de \"tudo ou nada\" geralmente resulta de um limiar, que determina se um neurônio dispara (tudo) ou não (nada). Assim, logo abaixo do limite, a saída será próxima de 0, enquanto acima do limite, a saída não será próxima de 0 - no nosso caso, é exatamente 1 na função vermelha."
   ]
  },
  {
   "cell_type": "markdown",
   "metadata": {},
   "source": [
    "## Conexões Sinápticas\n",
    "\n",
    "Conexões (ou sinapses) entre neurônios são usadas para passar informações das saídas de alguns neurônios para as entradas de outros neurônios. Nem todo neurônio está conectado a todos os outros neurônios, alguns neurônios tem \"relações\" mais fortes, ou seja, possuem conexões mais fortes.\n",
    "\n",
    "Um cérebro humano possue em torno de $10^{11}$ e algo entre $10^{14}$ e $10^{15}$ sinapses, ou seja, em média cada neurônio humano possue 5 mil conexões.\n",
    "\n",
    "Ajustando quais conexões existem e quão fortes elas são, o cérebro humano é capaz de aprender uma enorme variedade de funções complexas. Assim, um modelo computacional inspirado pelo cérebro humano deve incluir unidades computacionais simples (como neurônios) que são conectadas umas às outras (como nas sinapses). Se o modelo puder aprender a ajustar adequadamente os pontos fortes dessas conexões, ele poderá se aproximar do poder do cérebro humano."
   ]
  },
  {
   "cell_type": "code",
   "execution_count": null,
   "metadata": {},
   "outputs": [],
   "source": []
  }
 ],
 "metadata": {
  "kernelspec": {
   "display_name": "Python 3",
   "language": "python",
   "name": "python3"
  },
  "language_info": {
   "codemirror_mode": {
    "name": "ipython",
    "version": 3
   },
   "file_extension": ".py",
   "mimetype": "text/x-python",
   "name": "python",
   "nbconvert_exporter": "python",
   "pygments_lexer": "ipython3",
   "version": "3.6.8"
  }
 },
 "nbformat": 4,
 "nbformat_minor": 2
}
